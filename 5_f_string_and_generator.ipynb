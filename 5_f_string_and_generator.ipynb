{
 "cells": [
  {
   "cell_type": "markdown",
   "metadata": {},
   "source": [
    "### 13.F Strings"
   ]
  },
  {
   "cell_type": "code",
   "execution_count": null,
   "metadata": {
    "tags": []
   },
   "outputs": [],
   "source": [
    "first_name = 'Sean'\n",
    "last_name = 'Guo'\n",
    "\n",
    "sentence = \"My name is {} {} \".format(first_name, last_name)\n",
    "\n",
    "print(sentence)"
   ]
  },
  {
   "cell_type": "code",
   "execution_count": null,
   "metadata": {
    "tags": []
   },
   "outputs": [],
   "source": [
    "sentence = f\"My name is {first_name.upper()} {last_name.upper()}\"\n",
    "print(sentence)"
   ]
  },
  {
   "cell_type": "code",
   "execution_count": null,
   "metadata": {},
   "outputs": [],
   "source": [
    "person = {'name':'Jenn', 'age':23}\n"
   ]
  },
  {
   "cell_type": "code",
   "execution_count": null,
   "metadata": {
    "tags": []
   },
   "outputs": [],
   "source": [
    "sentence1 = \"My name is {}, and I am {} years old\".format(person['name'], person['age'])\n",
    "sentence2 = f\"My name is {person['name']}, and I am {person['age']} years old.\"\n",
    "\n",
    "print(sentence1)\n",
    "print(sentence2)"
   ]
  },
  {
   "cell_type": "code",
   "execution_count": null,
   "metadata": {
    "tags": []
   },
   "outputs": [],
   "source": [
    "calculation = f\"4 times 11 is equal to {4*11}\"\n",
    "\n",
    "print(calculation)"
   ]
  },
  {
   "cell_type": "code",
   "execution_count": null,
   "metadata": {
    "tags": []
   },
   "outputs": [],
   "source": [
    "for n in range(1, 11):\n",
    "    sentence = f\"The value is {n}\"\n",
    "    print(sentence)"
   ]
  },
  {
   "cell_type": "code",
   "execution_count": null,
   "metadata": {
    "tags": []
   },
   "outputs": [],
   "source": [
    "for n in range(1, 11):\n",
    "    sentence = f\"The value is {n:03}\"\n",
    "    print(sentence)"
   ]
  },
  {
   "cell_type": "code",
   "execution_count": null,
   "metadata": {
    "tags": []
   },
   "outputs": [],
   "source": [
    "pi = 3.14159265\n",
    "\n",
    "sentence = f\"Pi is equal to  {pi:.5f}\"\n",
    "\n",
    "print(sentence)"
   ]
  },
  {
   "cell_type": "code",
   "execution_count": null,
   "metadata": {
    "tags": []
   },
   "outputs": [],
   "source": [
    "from datetime import datetime\n",
    "\n",
    "birthday = datetime(1990, 1, 1)\n",
    "\n",
    "sentence = f\"Jenn has a birthday on {birthday}\"\n",
    "print(sentence)"
   ]
  },
  {
   "cell_type": "code",
   "execution_count": null,
   "metadata": {
    "tags": []
   },
   "outputs": [],
   "source": [
    "sentence01 = f\"Jenn has a birthday on {birthday:%B %d, %Y}\"\n",
    "print(sentence01)"
   ]
  },
  {
   "cell_type": "markdown",
   "metadata": {},
   "source": [
    "### 14.Generators"
   ]
  },
  {
   "cell_type": "code",
   "execution_count": null,
   "metadata": {
    "tags": []
   },
   "outputs": [],
   "source": [
    "def square_numbers(nums):\n",
    "    result = []\n",
    "    for i in nums:\n",
    "        result.append(i*i)\n",
    "    return result\n",
    "\n",
    "my_nums = square_numbers([1, 2, 3, 4, 5])\n",
    "\n",
    "print(my_nums)"
   ]
  },
  {
   "cell_type": "code",
   "execution_count": null,
   "metadata": {
    "tags": []
   },
   "outputs": [],
   "source": [
    "# generator\n",
    "def square_numbers(nums):\n",
    "    for i in nums:\n",
    "        yield(i*i)\n",
    "\n",
    "my_nums = square_numbers([1, 2, 3, 4, 5])\n",
    "\n",
    "# print(list(my_nums))\n",
    "\n",
    "for num in my_nums:\n",
    "    print(num)"
   ]
  },
  {
   "cell_type": "code",
   "execution_count": null,
   "metadata": {
    "tags": []
   },
   "outputs": [],
   "source": [
    "my_nums = [x*x for x in [1, 2, 3, 4, 5]]\n",
    "\n",
    "for num in my_nums:\n",
    "    print(num)\n",
    "\n",
    "print(my_nums)"
   ]
  },
  {
   "cell_type": "code",
   "execution_count": null,
   "metadata": {
    "tags": []
   },
   "outputs": [],
   "source": [
    "# generator\n",
    "my_nums = (x*x for x in [1, 2, 3, 4, 5])\n",
    "\n",
    "print(my_nums)\n",
    "\n",
    "for num in my_nums:\n",
    "\n",
    "    print(num)\n",
    "# 使用Generator可以大量节约内存和提示运行速度"
   ]
  },
  {
   "cell_type": "markdown",
   "metadata": {},
   "source": [
    "### 15.Decorators 装饰器"
   ]
  },
  {
   "cell_type": "code",
   "execution_count": 51,
   "metadata": {
    "tags": []
   },
   "outputs": [
    {
     "output_type": "stream",
     "name": "stdout",
     "text": "Hi\n"
    }
   ],
   "source": [
    "def outer_function():\n",
    "    message = 'Hi'\n",
    "\n",
    "    def inner_function():\n",
    "        print(message)\n",
    "    return inner_function()\n",
    "\n",
    "outer_function()"
   ]
  },
  {
   "cell_type": "code",
   "execution_count": 52,
   "metadata": {
    "tags": []
   },
   "outputs": [
    {
     "output_type": "stream",
     "name": "stdout",
     "text": "Hi\nHi\n"
    }
   ],
   "source": [
    "my_func = outer_function\n",
    "\n",
    "my_func()\n",
    "my_func()"
   ]
  },
  {
   "cell_type": "code",
   "execution_count": 54,
   "metadata": {
    "tags": []
   },
   "outputs": [
    {
     "output_type": "stream",
     "name": "stdout",
     "text": "Hi\nBye\n"
    }
   ],
   "source": [
    "def outer_function(msg):\n",
    "    message = msg\n",
    "\n",
    "    def inner_function():\n",
    "        print(message)\n",
    "    return inner_function\n",
    "\n",
    "hi_func = outer_function('Hi')\n",
    "bye_func = outer_function('Bye')\n",
    "\n",
    "hi_func()\n",
    "bye_func()"
   ]
  },
  {
   "cell_type": "code",
   "execution_count": 57,
   "metadata": {
    "tags": []
   },
   "outputs": [
    {
     "output_type": "stream",
     "name": "stdout",
     "text": "display function ran\n"
    }
   ],
   "source": [
    "# Decorators\n",
    "\n",
    "def decorator_function(original_function):\n",
    "    def wrapper_function():\n",
    "        return original_function()\n",
    "    return wrapper_function\n",
    "\n",
    "def display():\n",
    "    print(\"display function ran\")\n",
    "\n",
    "decorated_display = decorator_function(display)\n",
    "\n",
    "decorated_display()"
   ]
  },
  {
   "cell_type": "code",
   "execution_count": 59,
   "metadata": {
    "tags": []
   },
   "outputs": [
    {
     "output_type": "stream",
     "name": "stdout",
     "text": "wrapper executed this before display\ndisplay function ran\n"
    }
   ],
   "source": [
    "# Decorators\n",
    "\n",
    "def decorator_function(original_function):\n",
    "    def wrapper_function():\n",
    "        print(\"wrapper executed this before {}\".format(original_function.__name__))\n",
    "        return original_function()\n",
    "    return wrapper_function\n",
    "\n",
    "def display():\n",
    "    print(\"display function ran\")\n",
    "\n",
    "decorated_display = decorator_function(display)\n",
    "\n",
    "decorated_display()"
   ]
  },
  {
   "cell_type": "code",
   "execution_count": 60,
   "metadata": {
    "tags": []
   },
   "outputs": [
    {
     "output_type": "stream",
     "name": "stdout",
     "text": "wrapper executed this before display\ndisplay function ran\n"
    }
   ],
   "source": [
    "# Decorators\n",
    "\n",
    "def decorator_function(original_function):\n",
    "    def wrapper_function():\n",
    "        print(\"wrapper executed this before {}\".format(original_function.__name__))\n",
    "        return original_function()\n",
    "    return wrapper_function\n",
    "\n",
    "@decorator_function\n",
    "def display():\n",
    "    print(\"display function ran\")\n",
    "#@后的部分与上个cell中效果相同\n",
    "\n",
    "display()"
   ]
  },
  {
   "cell_type": "code",
   "execution_count": 63,
   "metadata": {
    "tags": []
   },
   "outputs": [
    {
     "output_type": "stream",
     "name": "stdout",
     "text": "display_info ran with arguments (John, 25)\n"
    }
   ],
   "source": [
    " # Decorators\n",
    "\n",
    "def decorator_function(original_function):\n",
    "    def wrapper_function():\n",
    "        print(\"wrapper executed this before {}\".format(original_function.__name__))\n",
    "        return original_function()\n",
    "    return wrapper_function\n",
    "\n",
    "@decorator_function\n",
    "def display():\n",
    "    print(\"display function ran\")\n",
    "# 以上函数调用了@装饰器\n",
    "\n",
    "# 以下函数不受装饰器影响\n",
    "def display_info(name, age):\n",
    "    print(\"display_info ran with arguments ({}, {})\".format(name, age))\n",
    "\n",
    "display_info(\"John\", 25)"
   ]
  },
  {
   "cell_type": "code",
   "execution_count": 1,
   "metadata": {
    "tags": []
   },
   "outputs": [
    {
     "output_type": "stream",
     "name": "stdout",
     "text": "wrapper executed this before display_info\ndisplay_info ran with arguments (('John', 25), {})\n"
    }
   ],
   "source": [
    " # Decorators\n",
    "\n",
    "def decorator_function(original_function):\n",
    "    def wrapper_function(*args, **kwargs):\n",
    "        print(\"wrapper executed this before {}\".format(original_function.__name__))\n",
    "        return original_function(args, kwargs)\n",
    "    return wrapper_function\n",
    "\n",
    "# @装饰器\n",
    "@decorator_function\n",
    "def display():\n",
    "    print(\"display function ran\")\n",
    "\n",
    "\n",
    "# @装饰器 相当于 display_info = decorator_function(display_info('John', 25))\n",
    "@decorator_function\n",
    "def display_info(name, age):\n",
    "    print(\"display_info ran with arguments ({}, {})\".format(name, age))\n",
    "\n",
    "display_info(\"John\", 25)"
   ]
  },
  {
   "cell_type": "markdown",
   "metadata": {},
   "source": [
    "### 16.Namedtuple"
   ]
  },
  {
   "cell_type": "code",
   "execution_count": 2,
   "metadata": {
    "tags": []
   },
   "outputs": [
    {
     "output_type": "stream",
     "name": "stdout",
     "text": "55\n"
    }
   ],
   "source": [
    "from collections import namedtuple\n",
    "\n",
    "color = (55, 155, 255)\n",
    "\n",
    "print(color[0])"
   ]
  },
  {
   "cell_type": "code",
   "execution_count": 3,
   "metadata": {
    "tags": []
   },
   "outputs": [
    {
     "output_type": "stream",
     "name": "stdout",
     "text": "55\n"
    }
   ],
   "source": [
    "from collections import namedtuple\n",
    "\n",
    "Color = namedtuple(\"Color\", [\"red\", \"green\", \"blue\"])\n",
    "\n",
    "color = Color(55, 155, 255)\n",
    "# color = (55, 155, 255)\n",
    "\n",
    "print(color.red)"
   ]
  },
  {
   "cell_type": "code",
   "execution_count": 4,
   "metadata": {
    "tags": []
   },
   "outputs": [
    {
     "output_type": "stream",
     "name": "stdout",
     "text": "255\n"
    }
   ],
   "source": [
    "from collections import namedtuple\n",
    "\n",
    "Color = namedtuple(\"Color\", [\"red\", \"green\", \"blue\"])\n",
    "\n",
    "dict_color = {\"red\":55, \"black\":155, \"blue\":255}\n",
    "# 并未对程序产生影响\n",
    "\n",
    "color = Color(55, 155, 255)\n",
    "white = Color(255, 255, 255)\n",
    "\n",
    "print(white.blue) "
   ]
  },
  {
   "cell_type": "code",
   "execution_count": 5,
   "metadata": {
    "tags": []
   },
   "outputs": [
    {
     "output_type": "stream",
     "name": "stdout",
     "text": "255\n"
    }
   ],
   "source": [
    "print(color.blue)"
   ]
  },
  {
   "cell_type": "code",
   "execution_count": 6,
   "metadata": {},
   "outputs": [
    {
     "output_type": "execute_result",
     "data": {
      "text/plain": "255"
     },
     "metadata": {},
     "execution_count": 6
    }
   ],
   "source": [
    "dict_color[\"blue\"]"
   ]
  },
  {
   "cell_type": "code",
   "execution_count": 9,
   "metadata": {},
   "outputs": [
    {
     "output_type": "execute_result",
     "data": {
      "text/plain": "255"
     },
     "metadata": {},
     "execution_count": 9
    }
   ],
   "source": [
    "white.red"
   ]
  },
  {
   "cell_type": "code",
   "execution_count": null,
   "metadata": {},
   "outputs": [],
   "source": []
  }
 ],
 "metadata": {
  "language_info": {
   "codemirror_mode": {
    "name": "ipython",
    "version": 3
   },
   "file_extension": ".py",
   "mimetype": "text/x-python",
   "name": "python",
   "nbconvert_exporter": "python",
   "pygments_lexer": "ipython3",
   "version": "3.8.3-final"
  },
  "orig_nbformat": 2,
  "kernelspec": {
   "name": "python38364bitmyprojectenvconda64d0fe915c75484da800768831797dc2",
   "display_name": "Python 3.8.3 64-bit ('my_project_env': conda)"
  }
 },
 "nbformat": 4,
 "nbformat_minor": 2
}