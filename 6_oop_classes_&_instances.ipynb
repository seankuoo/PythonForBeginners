{
 "cells": [
  {
   "cell_type": "markdown",
   "metadata": {},
   "source": [
    "## Python Object-Oriented Programming"
   ]
  },
  {
   "cell_type": "markdown",
   "metadata": {},
   "source": [
    "### 1.Classes and Instances"
   ]
  },
  {
   "cell_type": "code",
   "execution_count": 1,
   "metadata": {
    "tags": []
   },
   "outputs": [
    {
     "output_type": "stream",
     "name": "stdout",
     "text": "<__main__.Employee object at 0x7fe46073a220>\n<__main__.Employee object at 0x7fe46073a7f0>\n"
    }
   ],
   "source": [
    "class Employee:\n",
    "    pass\n",
    "\n",
    "emp_1 = Employee()\n",
    "emp_2 = Employee()\n",
    "\n",
    "print(emp_1)\n",
    "print(emp_2)"
   ]
  },
  {
   "cell_type": "code",
   "execution_count": 2,
   "metadata": {
    "tags": []
   },
   "outputs": [
    {
     "output_type": "stream",
     "name": "stdout",
     "text": "<__main__.Employee object at 0x7fe4b0d0ed90>\n<__main__.Employee object at 0x7fe4607e1be0>\nCorey.Lee@company.com\nSean.Guo@company.com\n"
    }
   ],
   "source": [
    "class Employee:\n",
    "    pass\n",
    "    \n",
    "emp_1 = Employee()\n",
    "emp_2 = Employee()\n",
    "\n",
    "print(emp_1)\n",
    "print(emp_2)\n",
    "\n",
    "emp_1.first = 'Corey'\n",
    "emp_1.last = 'Lee'\n",
    "emp_1.email = 'Corey.Lee@company.com'\n",
    "emp_1.pay = 80000\n",
    "\n",
    "emp_2.first = 'Sean'\n",
    "emp_2.last = 'Guo'\n",
    "emp_2.email = 'Sean.Guo@company.com'\n",
    "emp_2.pay = 60000\n",
    "\n",
    "print(emp_1.email)\n",
    "print(emp_2.email)"
   ]
  },
  {
   "cell_type": "code",
   "execution_count": 13,
   "metadata": {
    "tags": []
   },
   "outputs": [
    {
     "output_type": "stream",
     "name": "stdout",
     "text": "Corey.Lee@company.com \n Pay = 80000\nSean.Guo@company.com\n"
    }
   ],
   "source": [
    "class Employee:\n",
    "\n",
    "    def __init__(self, first, last, pay):\n",
    "        self.first = first\n",
    "        self.last = last\n",
    "        self.pay = pay\n",
    "        self.email = first + \".\" + last + \"@company.com\"\n",
    "\n",
    "emp_1 = Employee('Corey', \"Lee\", 80000)\n",
    "emp_2 = Employee(\"Sean\", \"Guo\", 60000)\n",
    "\n",
    "print(emp_1.email, \"\\n\", \"Pay =\", emp_1.pay)\n",
    "print(emp_2.email)"
   ]
  },
  {
   "cell_type": "code",
   "execution_count": 16,
   "metadata": {
    "tags": []
   },
   "outputs": [
    {
     "output_type": "stream",
     "name": "stdout",
     "text": "Corey.Lee@company.com \n Pay = 80000\nSean.Guo@company.com\nSean Guo\n"
    }
   ],
   "source": [
    "class Employee:\n",
    "\n",
    "    def __init__(self, first, last, pay):\n",
    "        self.first = first\n",
    "        self.last = last\n",
    "        self.pay = pay\n",
    "        self.email = first + \".\" + last + \"@company.com\"\n",
    "\n",
    "\n",
    "    def full_name(self):\n",
    "        return \"{} {}\".format(self.first, self.last)\n",
    "\n",
    "emp_1 = Employee('Corey', \"Lee\", 80000)\n",
    "emp_2 = Employee(\"Sean\", \"Guo\", 60000)\n",
    "\n",
    "print(emp_1.email, \"\\n\", \"Pay =\", emp_1.pay)\n",
    "print(emp_2.email)\n",
    "print(emp_2.full_name())\n",
    "\n"
   ]
  },
  {
   "cell_type": "code",
   "execution_count": 17,
   "metadata": {
    "tags": []
   },
   "outputs": [
    {
     "output_type": "stream",
     "name": "stdout",
     "text": "Corey Lee\nCorey Lee\n"
    }
   ],
   "source": [
    "# 相同的结果，不同的实现方式\n",
    "print(emp_1.full_name())\n",
    "print(Employee.full_name(emp_1))"
   ]
  },
  {
   "cell_type": "markdown",
   "metadata": {},
   "source": [
    "### 2.Class Variables"
   ]
  },
  {
   "cell_type": "code",
   "execution_count": 40,
   "metadata": {
    "tags": []
   },
   "outputs": [
    {
     "output_type": "stream",
     "name": "stdout",
     "text": "80000\n84000\n"
    }
   ],
   "source": [
    "class Employee:\n",
    "\n",
    "    def __init__(self, first, last, pay):\n",
    "        self.first = first\n",
    "        self.last = last\n",
    "        self.pay = pay\n",
    "        self.email = first + \".\" + last + \"@company.com\"\n",
    "\n",
    "    def full_name(self):\n",
    "        return \"{} {}\".format(self.first, self.last)\n",
    "\n",
    "    def apply_raise(self):\n",
    "        self.pay = int(self.pay * 1.05)\n",
    "\n",
    "emp_1 = Employee(\"Corey\", \"Lee\", 80000)\n",
    "emp_2 = Employee(\"Sean\", \"Guo\", 60000)\n",
    "\n",
    "# print(emp_1.pay)\n",
    "print(emp_1.pay)\n",
    "emp_1.apply_raise()\n",
    "print(emp_1.pay)\n",
    "\n",
    "\n",
    "\n"
   ]
  },
  {
   "cell_type": "code",
   "execution_count": 41,
   "metadata": {
    "tags": []
   },
   "outputs": [
    {
     "output_type": "stream",
     "name": "stdout",
     "text": "80000\n84000\n"
    }
   ],
   "source": [
    "# Use Variable 代替具体数值\n",
    "class Employee:\n",
    "\n",
    "    raise_amount = 1.05\n",
    "\n",
    "    def __init__(self, first, last, pay):\n",
    "        self.first = first\n",
    "        self.last = last\n",
    "        self.pay = pay\n",
    "        self.email = first + \".\" + last + \"@company.com\"\n",
    "\n",
    "    def full_name(self):\n",
    "        return \"{} {}\".format(self.first, self.last)\n",
    "\n",
    "    def apply_raise(self):\n",
    "        self.pay = int(self.pay * self.raise_amount)\n",
    "        # as \"self.pay = int(self.pay * Employee.raise_amount\"\n",
    "\n",
    "emp_1 = Employee(\"Corey\", \"Lee\", 80000)\n",
    "emp_2 = Employee(\"Sean\", \"Guo\", 60000)\n",
    "\n",
    "# print(emp_1.pay)\n",
    "print(emp_1.pay)\n",
    "emp_1.apply_raise()\n",
    "print(emp_1.pay)\n",
    "\n",
    "\n",
    "\n"
   ]
  },
  {
   "cell_type": "code",
   "execution_count": 42,
   "metadata": {
    "tags": []
   },
   "outputs": [
    {
     "output_type": "stream",
     "name": "stdout",
     "text": "1.05\n1.05\n1.05\n"
    }
   ],
   "source": [
    "print(Employee.raise_amount)\n",
    "print(emp_1.raise_amount)\n",
    "print(emp_2.raise_amount)"
   ]
  },
  {
   "cell_type": "code",
   "execution_count": 43,
   "metadata": {
    "tags": []
   },
   "outputs": [
    {
     "output_type": "stream",
     "name": "stdout",
     "text": "{'first': 'Corey', 'last': 'Lee', 'pay': 84000, 'email': 'Corey.Lee@company.com'}\n"
    }
   ],
   "source": [
    "print(emp_1.__dict__)"
   ]
  },
  {
   "cell_type": "code",
   "execution_count": 44,
   "metadata": {
    "tags": []
   },
   "outputs": [
    {
     "output_type": "stream",
     "name": "stdout",
     "text": "{'__module__': '__main__', 'raise_amount': 1.05, '__init__': <function Employee.__init__ at 0x7fe46071f3a0>, 'full_name': <function Employee.full_name at 0x7fe46071f5e0>, 'apply_raise': <function Employee.apply_raise at 0x7fe46071f550>, '__dict__': <attribute '__dict__' of 'Employee' objects>, '__weakref__': <attribute '__weakref__' of 'Employee' objects>, '__doc__': None}\n"
    }
   ],
   "source": [
    "print(Employee.__dict__)"
   ]
  },
  {
   "cell_type": "code",
   "execution_count": 45,
   "metadata": {
    "tags": []
   },
   "outputs": [
    {
     "output_type": "stream",
     "name": "stdout",
     "text": "1.02\n1.02\n1.02\n"
    }
   ],
   "source": [
    "Employee.raise_amount = 1.02\n",
    "\n",
    "print(Employee.raise_amount)\n",
    "print(emp_1.raise_amount)\n",
    "print(emp_2.raise_amount)"
   ]
  },
  {
   "cell_type": "code",
   "execution_count": 46,
   "metadata": {
    "tags": []
   },
   "outputs": [
    {
     "output_type": "stream",
     "name": "stdout",
     "text": "1.02\n1.03\n1.02\n"
    }
   ],
   "source": [
    "emp_1.raise_amount = 1.03\n",
    "\n",
    "print(Employee.raise_amount)\n",
    "print(emp_1.raise_amount)\n",
    "print(emp_2.raise_amount)"
   ]
  },
  {
   "cell_type": "code",
   "execution_count": 47,
   "metadata": {
    "tags": []
   },
   "outputs": [
    {
     "output_type": "stream",
     "name": "stdout",
     "text": "{'first': 'Corey', 'last': 'Lee', 'pay': 84000, 'email': 'Corey.Lee@company.com', 'raise_amount': 1.03}\n"
    }
   ],
   "source": [
    "print(emp_1.__dict__)"
   ]
  },
  {
   "cell_type": "code",
   "execution_count": 53,
   "metadata": {
    "tags": []
   },
   "outputs": [
    {
     "output_type": "stream",
     "name": "stdout",
     "text": "0\n1\n2\n2\n"
    }
   ],
   "source": [
    "# add a Variable to count the amount of employees\n",
    "class Employee:\n",
    "\n",
    "    num_of_emps = 0\n",
    "    raise_amount = 1.05\n",
    "\n",
    "    def __init__(self, first, last, pay):\n",
    "        self.first = first\n",
    "        self.last = last\n",
    "        self.pay = pay\n",
    "        self.email = first + \".\" + last + \"@company.com\"\n",
    "\n",
    "        Employee.num_of_emps += 1\n",
    "\n",
    "    def full_name(self):\n",
    "        return \"{} {}\".format(self.first, self.last)\n",
    "\n",
    "    def apply_raise(self):\n",
    "        self.pay = int(self.pay * self.raise_amount)\n",
    "\n",
    "print(Employee.num_of_emps)\n",
    "\n",
    "emp_1 = Employee(\"Corey\", \"Lee\", 80000)\n",
    "\n",
    "print(Employee.num_of_emps)\n",
    "\n",
    "emp_2 = Employee(\"Sean\", \"Guo\", 60000)\n",
    "\n",
    "print(Employee.num_of_emps)\n",
    "# just need the class of Employee works\n",
    "print(Employee.num_of_emps)\n",
    "\n"
   ]
  },
  {
   "cell_type": "markdown",
   "metadata": {},
   "source": [
    "### 3.classmethods and staticmethods"
   ]
  },
  {
   "cell_type": "code",
   "execution_count": 57,
   "metadata": {
    "tags": []
   },
   "outputs": [
    {
     "output_type": "stream",
     "name": "stdout",
     "text": "1.06\n1.06\n1.06\n"
    }
   ],
   "source": [
    "# classmethod\n",
    "class Employee:\n",
    "\n",
    "    num_of_emps = 0\n",
    "    raise_amount = 1.05\n",
    "\n",
    "    def __init__(self, first, last, pay):\n",
    "        self.first = first\n",
    "        self.last = last\n",
    "        self.pay = pay\n",
    "        self.email = first + \".\" + last + \"@company.com\"\n",
    "\n",
    "        Employee.num_of_emps += 1\n",
    "\n",
    "    def full_name(self):\n",
    "        return \"{} {}\".format(self.first, self.last)\n",
    "\n",
    "    def apply_raise(self):\n",
    "        self.pay = int(self.pay * self.raise_amount)\n",
    "\n",
    "    # Use the decorator to set Employee.raise_amount\n",
    "    @classmethod\n",
    "    def set_raise_amt(cls, amount):\n",
    "        cls.raise_amount = amount\n",
    "\n",
    "emp_1 = Employee(\"Corey\", \"Lee\", 80000)\n",
    "emp_2 = Employee(\"Sean\", \"Guo\", 60000)\n",
    "\n",
    "# change the raise_amount\n",
    "Employee.set_raise_amt(1.06)\n",
    "\n",
    "print(Employee.raise_amount)\n",
    "print(emp_1.raise_amount)\n",
    "print(emp_2.raise_amount)\n",
    "\n"
   ]
  },
  {
   "cell_type": "code",
   "execution_count": 58,
   "metadata": {
    "tags": []
   },
   "outputs": [
    {
     "output_type": "stream",
     "name": "stdout",
     "text": "1.12\n1.12\n1.12\n"
    }
   ],
   "source": [
    "# change the raise_amount for emp_1 by the decorator function, it will change global Variable\n",
    "emp_1.set_raise_amt(1.12)\n",
    "\n",
    "print(Employee.raise_amount)\n",
    "print(emp_1.raise_amount)\n",
    "print(emp_2.raise_amount)\n"
   ]
  },
  {
   "cell_type": "code",
   "execution_count": 60,
   "metadata": {
    "tags": []
   },
   "outputs": [
    {
     "output_type": "stream",
     "name": "stdout",
     "text": "John.Doe@company.com\n70000\n"
    }
   ],
   "source": [
    "# analysis for new classmethod\n",
    "class Employee:\n",
    "\n",
    "    num_of_emps = 0\n",
    "    raise_amount = 1.05\n",
    "\n",
    "    def __init__(self, first, last, pay):\n",
    "        self.first = first\n",
    "        self.last = last\n",
    "        self.pay = pay\n",
    "        self.email = first + \".\" + last + \"@company.com\"\n",
    "\n",
    "        Employee.num_of_emps += 1\n",
    "\n",
    "    def full_name(self):\n",
    "        return \"{} {}\".format(self.first, self.last)\n",
    "\n",
    "    def apply_raise(self):\n",
    "        self.pay = int(self.pay * self.raise_amount)\n",
    "\n",
    "    # Use the decorator to set Employee.raise_amount\n",
    "    @classmethod\n",
    "    def set_raise_amt(cls, amount):\n",
    "        cls.raise_amount = amount\n",
    "\n",
    "emp_1 = Employee(\"Corey\", \"Lee\", 80000)\n",
    "emp_2 = Employee(\"Sean\", \"Guo\", 60000)\n",
    "\n",
    "# append new employees\n",
    "emp_str_1 = \"John-Doe-70000\"\n",
    "emp_str_2 = \"Steve-Smith-30000\"\n",
    "emp_str_2 = \"Jane-Doe-90000\"\n",
    "\n",
    "first, last, pay = emp_str_1.split(\"-\")\n",
    "\n",
    "# new employee in class Employee\n",
    "new_emp_1 = Employee(first, last, pay)\n",
    "\n",
    "print(new_emp_1.email)\n",
    "print(new_emp_1.pay)\n"
   ]
  },
  {
   "cell_type": "code",
   "execution_count": 61,
   "metadata": {
    "tags": []
   },
   "outputs": [
    {
     "output_type": "stream",
     "name": "stdout",
     "text": "John.Doe@company.com\n70000\n"
    }
   ],
   "source": [
    "# add new classmethod\n",
    "class Employee:\n",
    "\n",
    "    num_of_emps = 0\n",
    "    raise_amount = 1.05\n",
    "\n",
    "    def __init__(self, first, last, pay):\n",
    "        self.first = first\n",
    "        self.last = last\n",
    "        self.pay = pay\n",
    "        self.email = first + \".\" + last + \"@company.com\"\n",
    "\n",
    "        Employee.num_of_emps += 1\n",
    "\n",
    "    def full_name(self):\n",
    "        return \"{} {}\".format(self.first, self.last)\n",
    "\n",
    "    def apply_raise(self):\n",
    "        self.pay = int(self.pay * self.raise_amount)\n",
    "\n",
    "    # Use classmethod as the decorator to set Employee.raise_amount\n",
    "    @classmethod\n",
    "    def set_raise_amt(cls, amount):\n",
    "        cls.raise_amount = amount\n",
    "\n",
    "    @classmethod\n",
    "    def from_string(cls, emp_str):\n",
    "        first, last, pay = emp_str.split(\"-\")\n",
    "        return cls(first, last, pay)\n",
    "\n",
    "\n",
    "emp_1 = Employee(\"Corey\", \"Lee\", 80000)\n",
    "emp_2 = Employee(\"Sean\", \"Guo\", 60000)\n",
    "\n",
    "emp_str_1 = \"John-Doe-70000\"\n",
    "emp_str_2 = \"Steve-Smith-30000\"\n",
    "emp_str_3 = \"Jane-Doe-90000\"\n",
    "\n",
    "# new employee in class Employee\n",
    "new_emp_1 = Employee.from_string(emp_str_1)\n",
    "\n",
    "print(new_emp_1.email)\n",
    "print(new_emp_1.pay)\n"
   ]
  },
  {
   "cell_type": "code",
   "execution_count": 64,
   "metadata": {
    "tags": []
   },
   "outputs": [
    {
     "output_type": "stream",
     "name": "stdout",
     "text": "False\n"
    }
   ],
   "source": [
    "# Staticmethod\n",
    "class Employee:\n",
    "\n",
    "    num_of_emps = 0\n",
    "    raise_amount = 1.05\n",
    "\n",
    "    def __init__(self, first, last, pay):\n",
    "        self.first = first\n",
    "        self.last = last\n",
    "        self.pay = pay\n",
    "        self.email = first + \".\" + last + \"@company.com\"\n",
    "\n",
    "        Employee.num_of_emps += 1\n",
    "\n",
    "    def full_name(self):\n",
    "        return \"{} {}\".format(self.first, self.last)\n",
    "\n",
    "    def apply_raise(self):\n",
    "        self.pay = int(self.pay * self.raise_amount)\n",
    "\n",
    "    # Use classmethod as the decorator to set Employee.raise_amount\n",
    "    @classmethod\n",
    "    def set_raise_amt(cls, amount):\n",
    "        cls.raise_amount = amount\n",
    "\n",
    "    @classmethod\n",
    "    def from_string(cls, emp_str):\n",
    "        first, last, pay = emp_str.split(\"-\")\n",
    "        return cls(first, last, pay)\n",
    "\n",
    "    # Use staticmethod as decorator to count weekdays\n",
    "    @staticmethod\n",
    "    def is_workday(day):\n",
    "        if day.weekday() == 5 or day.weekday() == 6:\n",
    "        # weekday==5 or 6 means weekday[0, 5] or weekdays[1, 6]\n",
    "            return False\n",
    "        return True \n",
    "\n",
    "emp_1 = Employee(\"Corey\", \"Lee\", 80000)\n",
    "emp_2 = Employee(\"Sean\", \"Guo\", 60000)\n",
    "\n",
    "import datetime\n",
    "my_date = datetime.date(2020,7,5)\n",
    "\n",
    "print(Employee.is_workday(my_date))\n"
   ]
  },
  {
   "cell_type": "markdown",
   "metadata": {},
   "source": [
    "### 4.Inheritance"
   ]
  },
  {
   "cell_type": "code",
   "execution_count": 65,
   "metadata": {
    "tags": []
   },
   "outputs": [
    {
     "output_type": "stream",
     "name": "stdout",
     "text": "Corey.Lee@company.com\nSean.Guo@company.com\n"
    }
   ],
   "source": [
    "class Employee:\n",
    "    \n",
    "    raise_amt = 1.04\n",
    "\n",
    "    def __init__(self, first, last, pay):\n",
    "        self.first = first\n",
    "        self.last = last\n",
    "        self.email = first + \".\" + last + \"@company.com\"\n",
    "        self.pay = pay\n",
    "\n",
    "    def full_name(self):\n",
    "        return \"{} {}\".format(self.first, self.last)\n",
    "\n",
    "    def apply_raise(self):\n",
    "        self.pay =  int(self.pay * self.raise_amt)\n",
    "\n",
    "# Inheritting from Employee\n",
    "class Developer(Employee):\n",
    "    pass\n",
    "\n",
    "dev_1 = Developer(\"Corey\", \"Lee\", 55000)\n",
    "dev_2 = Developer(\"Sean\", \"Guo\", 80000)\n",
    "\n",
    "print(dev_1.email)\n",
    "print(dev_2.email)"
   ]
  },
  {
   "cell_type": "code",
   "execution_count": 66,
   "metadata": {
    "tags": []
   },
   "outputs": [
    {
     "output_type": "stream",
     "name": "stdout",
     "text": "Help on class Developer in module __main__:\n\nclass Developer(Employee)\n |  Developer(first, last, pay)\n |  \n |  Method resolution order:\n |      Developer\n |      Employee\n |      builtins.object\n |  \n |  Methods inherited from Employee:\n |  \n |  __init__(self, first, last, pay)\n |      Initialize self.  See help(type(self)) for accurate signature.\n |  \n |  apply_raise(self)\n |  \n |  full_name(self)\n |  \n |  ----------------------------------------------------------------------\n |  Data descriptors inherited from Employee:\n |  \n |  __dict__\n |      dictionary for instance variables (if defined)\n |  \n |  __weakref__\n |      list of weak references to the object (if defined)\n |  \n |  ----------------------------------------------------------------------\n |  Data and other attributes inherited from Employee:\n |  \n |  raise_amt = 1.04\n\nNone\n"
    }
   ],
   "source": [
    "print(help(Developer))"
   ]
  },
  {
   "cell_type": "code",
   "execution_count": 67,
   "metadata": {
    "tags": []
   },
   "outputs": [
    {
     "output_type": "stream",
     "name": "stdout",
     "text": "55000\n57200\n"
    }
   ],
   "source": [
    "\"\"\" \n",
    "Data and other attributes inherited from \n",
    "raise_amt = 1.04\n",
    "\"\"\"\n",
    "Employee:\n",
    "print(dev_1.pay)\n",
    "dev_1.apply_raise()\n",
    "print(dev_1.pay)"
   ]
  },
  {
   "cell_type": "code",
   "execution_count": 73,
   "metadata": {
    "tags": []
   },
   "outputs": [
    {
     "output_type": "stream",
     "name": "stdout",
     "text": "Corey.Lee@company.com\nPython\n"
    }
   ],
   "source": [
    "class Employee:\n",
    "    \n",
    "    raise_amt = 1.04\n",
    "\n",
    "    def __init__(self, first, last, pay):\n",
    "        self.first = first\n",
    "        self.last = last\n",
    "        self.email = first + \".\" + last + \"@company.com\"\n",
    "        self.pay = pay\n",
    "\n",
    "    def full_name(self):\n",
    "        return \"{} {}\".format(self.first, self.last)\n",
    "\n",
    "    def apply_raise(self):\n",
    "        self.pay =  int(self.pay * self.raise_amt)\n",
    "\n",
    "# Inheritting from Employee\n",
    "class Developer(Employee):\n",
    "    raise_amt = 1.10\n",
    "\n",
    "    def __init__(self, first, last, pay, prog_lang):\n",
    "        super().__init__(first, last, pay)\n",
    "        # Methods inherited from Employee as Employee.__init__(self, first, last, pay)\n",
    "        self.prog_lang = prog_lang\n",
    "        \n",
    "\n",
    "dev_1 = Developer(\"Corey\", \"Lee\", 55000, \"Python\")\n",
    "dev_2 = Developer(\"Sean\", \"Guo\", 80000, \"Java\")\n",
    "\n",
    "print(dev_1.email)\n",
    "print(dev_1.prog_lang)"
   ]
  },
  {
   "cell_type": "code",
   "execution_count": 85,
   "metadata": {
    "tags": []
   },
   "outputs": [
    {
     "output_type": "stream",
     "name": "stdout",
     "text": "Sue.Smith@company.com\n--> Corey Lee\n--> Sean Guo\n"
    }
   ],
   "source": [
    "class Employee:\n",
    "    \n",
    "    raise_amt = 1.04\n",
    "\n",
    "    def __init__(self, first, last, pay):\n",
    "        self.first = first\n",
    "        self.last = last\n",
    "        self.email = first + \".\" + last + \"@company.com\"\n",
    "        self.pay = pay\n",
    "\n",
    "    def full_name(self):\n",
    "        return \"{} {}\".format(self.first, self.last)\n",
    "\n",
    "    def apply_raise(self):\n",
    "        self.pay =  int(self.pay * self.raise_amt)\n",
    "\n",
    "# Inheritting from Employee\n",
    "class Developer(Employee):\n",
    "    raise_amt = 1.10\n",
    "\n",
    "    def __init__(self, first, last, pay, prog_lang):\n",
    "        super().__init__(first, last, pay)\n",
    "        # Methods inherited from Employee as Employee.__init__(self, first, last, pay)\n",
    "        self.prog_lang = prog_lang\n",
    "        \n",
    "class Manager(Employee):\n",
    "    \n",
    "    def __init__(self, first, last, pay, employees=None):\n",
    "        super().__init__(first, last, pay)\n",
    "        # Methods inherited from Employee as Employee.__init__(self, first, last, pay)\n",
    "        if employees is None:\n",
    "            self.employees = []\n",
    "        else:\n",
    "            self.employees = employees\n",
    "\n",
    "    # add employee\n",
    "    def  add_emp(self, emp):\n",
    "        if emp not in self.employees:\n",
    "            self.employees.append(emp)\n",
    "\n",
    "    # remove employee\n",
    "    def remove_emp(self, emp):\n",
    "        if emp in self.employees:\n",
    "            self.employees.remove(emp)\n",
    "\n",
    "    # print employee list\n",
    "    def print_emp(self):\n",
    "        for emp in self.employees:\n",
    "            print(\"-->\", emp.full_name())\n",
    "\n",
    "dev_1 = Developer(\"Corey\", \"Lee\", 55000, \"Python\")\n",
    "dev_2 = Developer(\"Sean\", \"Guo\", 80000, \"Java\")\n",
    "\n",
    "mgr_1 = Manager(\"Sue\", \"Smith\", 90000, [dev_1])\n",
    "\n",
    "print(mgr_1.email)\n",
    "\n",
    "mgr_1.add_emp(dev_1)\n",
    "mgr_1.add_emp(dev_2)\n",
    "mgr_1.print_emp()"
   ]
  },
  {
   "cell_type": "code",
   "execution_count": 86,
   "metadata": {
    "tags": []
   },
   "outputs": [
    {
     "output_type": "stream",
     "name": "stdout",
     "text": "--> Sean Guo\n"
    }
   ],
   "source": [
    "mgr_1.remove_emp(dev_1)\n",
    "mgr_1.print_emp()"
   ]
  },
  {
   "cell_type": "code",
   "execution_count": 87,
   "metadata": {
    "tags": []
   },
   "outputs": [
    {
     "output_type": "stream",
     "name": "stdout",
     "text": "False\n"
    }
   ],
   "source": [
    "# There is no inheritance relationship between mgr_1 and Developer\n",
    "print(isinstance(mgr_1, Developer)) "
   ]
  },
  {
   "cell_type": "code",
   "execution_count": 88,
   "metadata": {
    "tags": []
   },
   "outputs": [
    {
     "output_type": "stream",
     "name": "stdout",
     "text": "True\n"
    }
   ],
   "source": [
    "# Defining mgr_1 as an instance of Manager\n",
    "print(isinstance(mgr_1, Manager))"
   ]
  },
  {
   "cell_type": "code",
   "execution_count": 90,
   "metadata": {
    "tags": []
   },
   "outputs": [
    {
     "output_type": "stream",
     "name": "stdout",
     "text": "True\n"
    }
   ],
   "source": [
    "# There is an inheritance relationship between mgr_1 and Emloyee via Manager\n",
    "print(isinstance(mgr_1, Employee))"
   ]
  },
  {
   "cell_type": "code",
   "execution_count": 92,
   "metadata": {
    "tags": []
   },
   "outputs": [
    {
     "output_type": "stream",
     "name": "stdout",
     "text": "True\n"
    }
   ],
   "source": [
    "# There is an subclass relationship between Developer and Employee\n",
    "print(issubclass(Developer, Employee))"
   ]
  },
  {
   "cell_type": "code",
   "execution_count": 94,
   "metadata": {
    "tags": []
   },
   "outputs": [
    {
     "output_type": "stream",
     "name": "stdout",
     "text": "True\n"
    }
   ],
   "source": [
    "# There is an subclass relationship between Developer and Employee\n",
    "print(issubclass(Manager, Employee))"
   ]
  },
  {
   "cell_type": "code",
   "execution_count": 95,
   "metadata": {
    "tags": []
   },
   "outputs": [
    {
     "output_type": "stream",
     "name": "stdout",
     "text": "False\n"
    }
   ],
   "source": [
    "# There is no an subclass relationship between Developer and Employee\n",
    "print(issubclass(Developer, Manager))"
   ]
  },
  {
   "cell_type": "markdown",
   "metadata": {},
   "source": [
    "### 5.Special Methods / Magic or Dunder Methods"
   ]
  },
  {
   "cell_type": "code",
   "execution_count": 96,
   "metadata": {
    "tags": []
   },
   "outputs": [
    {
     "output_type": "stream",
     "name": "stdout",
     "text": "3\nab\n"
    }
   ],
   "source": [
    "# addition of numbers and string\n",
    "print(1 + 2)\n",
    "print(\"a\" + \"b\")"
   ]
  },
  {
   "cell_type": "code",
   "execution_count": 102,
   "metadata": {
    "tags": []
   },
   "outputs": [
    {
     "output_type": "stream",
     "name": "stdout",
     "text": "Employee('Corey', 'Lee', 50000)\n"
    }
   ],
   "source": [
    "class Employee:\n",
    "\n",
    "    raise_amt = 1.04\n",
    "\n",
    "    def __init__(self, first, last, pay):\n",
    "        self.first = first\n",
    "        self.last = last\n",
    "        self.email = first + \".\" + last + \"@company.com\"\n",
    "        self.pay = pay\n",
    "\n",
    "    def fullname(self):\n",
    "        return \"{} {}\".format(self.first, self.last)\n",
    "\n",
    "    def apply_raise(self):\n",
    "        self.pay = int(self.pay * self.raise_amount)\n",
    "\n",
    "    # use magic method\n",
    "    def __repr__(self):\n",
    "        return \"Employee('{}', '{}', {})\".format(self.first, self.last, self.pay)\n",
    "\n",
    "\n",
    "emp_1 = Employee(\"Corey\", \"Lee\", 50000)\n",
    "emp_2 = Employee(\"Sean\", \"Guo\", 80000)\n",
    "\n",
    "print(emp_1)"
   ]
  },
  {
   "cell_type": "code",
   "execution_count": 100,
   "metadata": {
    "tags": []
   },
   "outputs": [
    {
     "output_type": "stream",
     "name": "stdout",
     "text": "Corey Lee-Corey.Lee@company.com\n"
    }
   ],
   "source": [
    "class Employee:\n",
    "\n",
    "    raise_amt = 1.04\n",
    "\n",
    "    def __init__(self, first, last, pay):\n",
    "        self.first = first\n",
    "        self.last = last\n",
    "        self.email = first + \".\" + last + \"@company.com\"\n",
    "        self.pay = pay\n",
    "\n",
    "    def fullname(self):\n",
    "        return \"{} {}\".format(self.first, self.last)\n",
    "\n",
    "    def apply_raise(self):\n",
    "        self.pay = int(self.pay * self.raise_amount)\n",
    "\n",
    "    # use magic method\n",
    "    def __repr__(self):\n",
    "        return \"Employee('{}', '{}', {})\".format(self.first, self.last, self.pay)\n",
    "\n",
    "    # use __str__ method\n",
    "    def __str__(self):\n",
    "        return \"{}-{}\".format(self.fullname(),self.email)\n",
    "\n",
    "\n",
    "emp_1 = Employee(\"Corey\", \"Lee\", 50000)\n",
    "emp_2 = Employee(\"Sean\", \"Guo\", 80000)\n",
    "\n",
    "print(emp_1)\n",
    "# when __str__ works , printing emp_1 the __repr__ method will not show the result"
   ]
  },
  {
   "cell_type": "code",
   "execution_count": 104,
   "metadata": {
    "tags": []
   },
   "outputs": [
    {
     "output_type": "stream",
     "name": "stdout",
     "text": "Employee('Corey', 'Lee', 50000)\nCorey Lee-Corey.Lee@company.com\n"
    }
   ],
   "source": [
    "class Employee:\n",
    "\n",
    "    raise_amt = 1.04\n",
    "\n",
    "    def __init__(self, first, last, pay):\n",
    "        self.first = first\n",
    "        self.last = last\n",
    "        self.email = first + \".\" + last + \"@company.com\"\n",
    "        self.pay = pay\n",
    "\n",
    "    def fullname(self):\n",
    "        return \"{} {}\".format(self.first, self.last)\n",
    "\n",
    "    def apply_raise(self):\n",
    "        self.pay = int(self.pay * self.raise_amount)\n",
    "\n",
    "    # use magic method\n",
    "    def __repr__(self):\n",
    "        return \"Employee('{}', '{}', {})\".format(self.first, self.last, self.pay)\n",
    "\n",
    "    # use __str__ method\n",
    "    def __str__(self):\n",
    "        return \"{}-{}\".format(self.fullname(),self.email)\n",
    "\n",
    "\n",
    "emp_1 = Employee(\"Corey\", \"Lee\", 50000)\n",
    "emp_2 = Employee(\"Sean\", \"Guo\", 80000)\n",
    "\n",
    "# prints for each one\n",
    "print(repr(emp_1))\n",
    "print(str(emp_1))\n",
    "\n"
   ]
  },
  {
   "cell_type": "code",
   "execution_count": 105,
   "metadata": {
    "tags": []
   },
   "outputs": [
    {
     "output_type": "stream",
     "name": "stdout",
     "text": "Employee('Corey', 'Lee', 50000)\nCorey Lee-Corey.Lee@company.com\n"
    }
   ],
   "source": [
    "class Employee:\n",
    "\n",
    "    raise_amt = 1.04\n",
    "\n",
    "    def __init__(self, first, last, pay):\n",
    "        self.first = first\n",
    "        self.last = last\n",
    "        self.email = first + \".\" + last + \"@company.com\"\n",
    "        self.pay = pay\n",
    "\n",
    "    def fullname(self):\n",
    "        return \"{} {}\".format(self.first, self.last)\n",
    "\n",
    "    def apply_raise(self):\n",
    "        self.pay = int(self.pay * self.raise_amount)\n",
    "\n",
    "    # use magic method\n",
    "    def __repr__(self):\n",
    "        return \"Employee('{}', '{}', {})\".format(self.first, self.last, self.pay)\n",
    "\n",
    "    # use __str__ method\n",
    "    def __str__(self):\n",
    "        return \"{}-{}\".format(self.fullname(),self.email)\n",
    "\n",
    "\n",
    "emp_1 = Employee(\"Corey\", \"Lee\", 50000)\n",
    "emp_2 = Employee(\"Sean\", \"Guo\", 80000)\n",
    "\n",
    "print(emp_1.__repr__())\n",
    "print(emp_1.__str__())\n",
    "# the results are the same as above cell"
   ]
  },
  {
   "cell_type": "code",
   "execution_count": 112,
   "metadata": {
    "tags": []
   },
   "outputs": [
    {
     "output_type": "stream",
     "name": "stdout",
     "text": "130000\n"
    }
   ],
   "source": [
    "class Employee:\n",
    "\n",
    "    raise_amt = 1.04\n",
    "\n",
    "    def __init__(self, first, last, pay):\n",
    "        self.first = first\n",
    "        self.last = last\n",
    "        self.email = first + \".\" + last + \"@company.com\"\n",
    "        self.pay = pay\n",
    "\n",
    "    def fullname(self):\n",
    "        return \"{} {}\".format(self.first, self.last)\n",
    "\n",
    "    def apply_raise(self):\n",
    "        self.pay = int(self.pay * self.raise_amount)\n",
    "\n",
    "    # use magic method\n",
    "    def __repr__(self):\n",
    "        return \"Employee('{}', '{}', {})\".format(self.first, self.last, self.pay)\n",
    "\n",
    "    # use __str__ method\n",
    "    def __str__(self):\n",
    "        return \"{}-{}\".format(self.fullname(),self.email)\n",
    "\n",
    "    # use __add__ method\n",
    "    def __add__(self, other):\n",
    "        return self.pay + other.pay\n",
    "\n",
    "emp_1 = Employee(\"Corey\", \"Lee\", 50000)\n",
    "emp_2 = Employee(\"Sean\", \"Guo\", 80000)\n",
    "\n",
    "print(emp_1 + emp_2)\n"
   ]
  },
  {
   "cell_type": "code",
   "execution_count": 113,
   "metadata": {
    "tags": []
   },
   "outputs": [
    {
     "output_type": "stream",
     "name": "stdout",
     "text": "9\n"
    }
   ],
   "source": [
    "class Employee:\n",
    "\n",
    "    raise_amt = 1.04\n",
    "\n",
    "    def __init__(self, first, last, pay):\n",
    "        self.first = first\n",
    "        self.last = last\n",
    "        self.email = first + \".\" + last + \"@company.com\"\n",
    "        self.pay = pay\n",
    "\n",
    "    def fullname(self):\n",
    "        return \"{} {}\".format(self.first, self.last)\n",
    "\n",
    "    def apply_raise(self):\n",
    "        self.pay = int(self.pay * self.raise_amount)\n",
    "\n",
    "    # use magic method\n",
    "    def __repr__(self):\n",
    "        return \"Employee('{}', '{}', {})\".format(self.first, self.last, self.pay)\n",
    "\n",
    "    # use __str__ method\n",
    "    def __str__(self):\n",
    "        return \"{}-{}\".format(self.fullname(),self.email)\n",
    "\n",
    "    # use __len__ method\n",
    "    def __len__(self):\n",
    "        return len(self.fullname())\n",
    "\n",
    "\n",
    "emp_1 = Employee(\"Corey\", \"Lee\", 50000)\n",
    "emp_2 = Employee(\"Sean\", \"Guo\", 80000)\n",
    "\n",
    "print(len(emp_1))\n",
    "# when __str__ works , __repr__ will not show the result"
   ]
  },
  {
   "cell_type": "markdown",
   "metadata": {},
   "source": [
    "### 6.Property Decorator"
   ]
  },
  {
   "cell_type": "code",
   "execution_count": 114,
   "metadata": {
    "tags": []
   },
   "outputs": [
    {
     "output_type": "stream",
     "name": "stdout",
     "text": "John\nJohn.Smith@company.com\nJohn Smith\n"
    }
   ],
   "source": [
    "class Employee:\n",
    "\n",
    "    def __init__(self, first, last):\n",
    "        self.first = first\n",
    "        self.last = last\n",
    "        self.email = first + \".\" + last + \"@company.com\"\n",
    "\n",
    "    def fullname(self):\n",
    "        return \"{} {}\".format(self.first, self.last)\n",
    "\n",
    "emp_1 = Employee(\"John\", \"Smith\")\n",
    "\n",
    "print(emp_1.first)\n",
    "print(emp_1.email)\n",
    "print(emp_1.fullname())"
   ]
  },
  {
   "cell_type": "code",
   "execution_count": 115,
   "metadata": {
    "tags": []
   },
   "outputs": [
    {
     "output_type": "stream",
     "name": "stdout",
     "text": "Jim\nJohn.Smith@company.com\nJim Smith\n"
    }
   ],
   "source": [
    "class Employee:\n",
    "\n",
    "    def __init__(self, first, last):\n",
    "        self.first = first\n",
    "        self.last = last\n",
    "        self.email = first + \".\" + last + \"@company.com\"\n",
    "\n",
    "    def fullname(self):\n",
    "        return \"{} {}\".format(self.first, self.last)\n",
    "\n",
    "emp_1 = Employee(\"John\", \"Smith\")\n",
    "\n",
    "emp_1.first = 'Jim'\n",
    "# modified the first name, but the email created is old\n",
    "\n",
    "print(emp_1.first)\n",
    "print(emp_1.email)\n",
    "print(emp_1.fullname())"
   ]
  },
  {
   "cell_type": "code",
   "execution_count": 118,
   "metadata": {
    "tags": []
   },
   "outputs": [
    {
     "output_type": "stream",
     "name": "stdout",
     "text": "Jim\nJim.Smith@company.com\nJim Smith\n"
    }
   ],
   "source": [
    "class Employee:\n",
    "\n",
    "    def __init__(self, first, last):\n",
    "        self.first = first\n",
    "        self.last = last\n",
    "        # self.email = first + \".\" + last + \"@company.com\"\n",
    " \n",
    "    # set the email an independent method\n",
    "    def email(self):\n",
    "        return \"{}.{}@company.com\".format(self.first, self.last)\n",
    "\n",
    "    def fullname(self):\n",
    "        return \"{} {}\".format(self.first, self.last)\n",
    "\n",
    "emp_1 = Employee(\"John\", \"Smith\")\n",
    "\n",
    "emp_1.first = 'Jim'\n",
    "# modified the first name, but the email created is old\n",
    "\n",
    "print(emp_1.first)\n",
    "print(emp_1.email())\n",
    "print(emp_1.fullname())"
   ]
  },
  {
   "cell_type": "code",
   "execution_count": 119,
   "metadata": {
    "tags": []
   },
   "outputs": [
    {
     "output_type": "stream",
     "name": "stdout",
     "text": "Jim\nJim.Smith@company.com\nJim Smith\n"
    }
   ],
   "source": [
    "class Employee:\n",
    "\n",
    "    def __init__(self, first, last):\n",
    "        self.first = first\n",
    "        self.last = last\n",
    " \n",
    "    # Use Decorator Property\n",
    "    @property\n",
    "    def email(self):\n",
    "        return \"{}.{}@company.com\".format(self.first, self.last)\n",
    "\n",
    "    def fullname(self):\n",
    "        return \"{} {}\".format(self.first, self.last)\n",
    "\n",
    "emp_1 = Employee(\"John\", \"Smith\")\n",
    "\n",
    "emp_1.first = 'Jim'\n",
    "# modified the first name, but the email created is old\n",
    "\n",
    "print(emp_1.first)\n",
    "print(emp_1.email) # It can be printing that not have brackets() by using the @property decorator\n",
    "print(emp_1.fullname())"
   ]
  },
  {
   "cell_type": "code",
   "execution_count": 122,
   "metadata": {
    "tags": []
   },
   "outputs": [
    {
     "output_type": "stream",
     "name": "stdout",
     "text": "Sean\nSean.Guo@company.com\nSean Guo\n"
    }
   ],
   "source": [
    "class Employee:\n",
    "\n",
    "    def __init__(self, first, last):\n",
    "        self.first = first\n",
    "        self.last = last\n",
    " \n",
    "    # Use Decorator Property\n",
    "    @property\n",
    "    def email(self):\n",
    "        return \"{}.{}@company.com\".format(self.first, self.last)\n",
    "\n",
    "    # Use Decorator Property\n",
    "    @property\n",
    "    def fullname(self):\n",
    "        return \"{} {}\".format(self.first, self.last)\n",
    "\n",
    "    # Use Decorator fullname.setter, \n",
    "    @fullname.setter\n",
    "    def fullname(self, name):\n",
    "        first, last =  name.split(\" \")\n",
    "        self.first = first\n",
    "        self.last =  last\n",
    "\n",
    "emp_1 = Employee(\"John\", \"Smith\")\n",
    "\n",
    "emp_1.fullname = \"Sean Guo\"\n",
    "\n",
    "print(emp_1.first)\n",
    "print(emp_1.email) \n",
    "print(emp_1.fullname)\n",
    "# When the fullname() method is in the @property decorator, the @fullname.setter works"
   ]
  },
  {
   "cell_type": "code",
   "execution_count": 123,
   "metadata": {
    "tags": []
   },
   "outputs": [
    {
     "output_type": "stream",
     "name": "stdout",
     "text": "Sean\nSean.Guo@company.com\nSean Guo\nDelete Name!\n"
    }
   ],
   "source": [
    "class Employee:\n",
    "\n",
    "    def __init__(self, first, last):\n",
    "        self.first = first\n",
    "        self.last = last\n",
    " \n",
    "    # Use Decorator Property\n",
    "    @property\n",
    "    def email(self):\n",
    "        return \"{}.{}@company.com\".format(self.first, self.last)\n",
    "\n",
    "    # Use Decorator Property\n",
    "    @property\n",
    "    def fullname(self):\n",
    "        return \"{} {}\".format(self.first, self.last)\n",
    "\n",
    "    # Use Decorator fullname.setter, \n",
    "    @fullname.setter\n",
    "    def fullname(self, name):\n",
    "        first, last =  name.split(\" \")\n",
    "        self.first = first\n",
    "        self.last =  last\n",
    "\n",
    "    # use the .deleter method\n",
    "    @fullname.deleter\n",
    "    def fullname(self):\n",
    "        print(\"Delete Name!\")\n",
    "        self.first = None\n",
    "        self.last = None\n",
    "\n",
    "emp_1 = Employee(\"John\", \"Smith\")\n",
    "\n",
    "emp_1.fullname = \"Sean Guo\"\n",
    "\n",
    "print(emp_1.first)\n",
    "print(emp_1.email) \n",
    "print(emp_1.fullname)\n",
    "\n",
    "del emp_1.fullname"
   ]
  },
  {
   "cell_type": "code",
   "execution_count": null,
   "metadata": {},
   "outputs": [],
   "source": []
  },
  {
   "cell_type": "code",
   "execution_count": null,
   "metadata": {},
   "outputs": [],
   "source": [
    "# There is no subclass relationship between Developer and Employee\n",
    "print(issubclass(Developer, Employee))"
   ]
  }
 ],
 "metadata": {
  "language_info": {
   "codemirror_mode": {
    "name": "ipython",
    "version": 3
   },
   "file_extension": ".py",
   "mimetype": "text/x-python",
   "name": "python",
   "nbconvert_exporter": "python",
   "pygments_lexer": "ipython3",
   "version": "3.8.3-final"
  },
  "orig_nbformat": 2,
  "kernelspec": {
   "name": "python38364bitmyprojectenvconda64d0fe915c75484da800768831797dc2",
   "display_name": "Python 3.8.3 64-bit ('my_project_env': conda)"
  }
 },
 "nbformat": 4,
 "nbformat_minor": 2
}