{
 "cells": [
  {
   "cell_type": "markdown",
   "metadata": {},
   "source": [
    "## Python Object-Oriented Programming"
   ]
  },
  {
   "cell_type": "markdown",
   "metadata": {},
   "source": [
    "### 1.Classes and Instances"
   ]
  },
  {
   "cell_type": "code",
   "execution_count": 1,
   "metadata": {
    "tags": []
   },
   "outputs": [
    {
     "output_type": "stream",
     "name": "stdout",
     "text": "<__main__.Employee object at 0x7fe46073a220>\n<__main__.Employee object at 0x7fe46073a7f0>\n"
    }
   ],
   "source": [
    "class Employee:\n",
    "    pass\n",
    "\n",
    "emp_1 = Employee()\n",
    "emp_2 = Employee()\n",
    "\n",
    "print(emp_1)\n",
    "print(emp_2)"
   ]
  },
  {
   "cell_type": "code",
   "execution_count": 2,
   "metadata": {
    "tags": []
   },
   "outputs": [
    {
     "output_type": "stream",
     "name": "stdout",
     "text": "<__main__.Employee object at 0x7fe4b0d0ed90>\n<__main__.Employee object at 0x7fe4607e1be0>\nCorey.Lee@company.com\nSean.Guo@company.com\n"
    }
   ],
   "source": [
    "class Employee:\n",
    "    pass\n",
    "    \n",
    "emp_1 = Employee()\n",
    "emp_2 = Employee()\n",
    "\n",
    "print(emp_1)\n",
    "print(emp_2)\n",
    "\n",
    "emp_1.first = 'Corey'\n",
    "emp_1.last = 'Lee'\n",
    "emp_1.email = 'Corey.Lee@company.com'\n",
    "emp_1.pay = 80000\n",
    "\n",
    "emp_2.first = 'Sean'\n",
    "emp_2.last = 'Guo'\n",
    "emp_2.email = 'Sean.Guo@company.com'\n",
    "emp_2.pay = 60000\n",
    "\n",
    "print(emp_1.email)\n",
    "print(emp_2.email)"
   ]
  },
  {
   "cell_type": "code",
   "execution_count": 13,
   "metadata": {
    "tags": []
   },
   "outputs": [
    {
     "output_type": "stream",
     "name": "stdout",
     "text": "Corey.Lee@company.com \n Pay = 80000\nSean.Guo@company.com\n"
    }
   ],
   "source": [
    "class Employee:\n",
    "\n",
    "    def __init__(self, first, last, pay):\n",
    "        self.first = first\n",
    "        self.last = last\n",
    "        self.pay = pay\n",
    "        self.email = first + \".\" + last + \"@company.com\"\n",
    "\n",
    "emp_1 = Employee('Corey', \"Lee\", 80000)\n",
    "emp_2 = Employee(\"Sean\", \"Guo\", 60000)\n",
    "\n",
    "print(emp_1.email, \"\\n\", \"Pay =\", emp_1.pay)\n",
    "print(emp_2.email)"
   ]
  },
  {
   "cell_type": "code",
   "execution_count": 16,
   "metadata": {
    "tags": []
   },
   "outputs": [
    {
     "output_type": "stream",
     "name": "stdout",
     "text": "Corey.Lee@company.com \n Pay = 80000\nSean.Guo@company.com\nSean Guo\n"
    }
   ],
   "source": [
    "class Employee:\n",
    "\n",
    "    def __init__(self, first, last, pay):\n",
    "        self.first = first\n",
    "        self.last = last\n",
    "        self.pay = pay\n",
    "        self.email = first + \".\" + last + \"@company.com\"\n",
    "\n",
    "\n",
    "    def full_name(self):\n",
    "        return \"{} {}\".format(self.first, self.last)\n",
    "\n",
    "emp_1 = Employee('Corey', \"Lee\", 80000)\n",
    "emp_2 = Employee(\"Sean\", \"Guo\", 60000)\n",
    "\n",
    "print(emp_1.email, \"\\n\", \"Pay =\", emp_1.pay)\n",
    "print(emp_2.email)\n",
    "print(emp_2.full_name())\n",
    "\n"
   ]
  },
  {
   "cell_type": "code",
   "execution_count": 17,
   "metadata": {
    "tags": []
   },
   "outputs": [
    {
     "output_type": "stream",
     "name": "stdout",
     "text": "Corey Lee\nCorey Lee\n"
    }
   ],
   "source": [
    "# 相同的结果，不同的实现方式\n",
    "print(emp_1.full_name())\n",
    "print(Employee.full_name(emp_1))"
   ]
  },
  {
   "cell_type": "markdown",
   "metadata": {},
   "source": [
    "### 2.Class Variables"
   ]
  },
  {
   "cell_type": "code",
   "execution_count": 40,
   "metadata": {
    "tags": []
   },
   "outputs": [
    {
     "output_type": "stream",
     "name": "stdout",
     "text": "80000\n84000\n"
    }
   ],
   "source": [
    "class Employee:\n",
    "\n",
    "    def __init__(self, first, last, pay):\n",
    "        self.first = first\n",
    "        self.last = last\n",
    "        self.pay = pay\n",
    "        self.email = first + \".\" + last + \"@company.com\"\n",
    "\n",
    "    def full_name(self):\n",
    "        return \"{} {}\".format(self.first, self.last)\n",
    "\n",
    "    def apply_raise(self):\n",
    "        self.pay = int(self.pay * 1.05)\n",
    "\n",
    "emp_1 = Employee(\"Corey\", \"Lee\", 80000)\n",
    "emp_2 = Employee(\"Sean\", \"Guo\", 60000)\n",
    "\n",
    "# print(emp_1.pay)\n",
    "print(emp_1.pay)\n",
    "emp_1.apply_raise()\n",
    "print(emp_1.pay)\n",
    "\n",
    "\n",
    "\n"
   ]
  },
  {
   "cell_type": "code",
   "execution_count": 41,
   "metadata": {
    "tags": []
   },
   "outputs": [
    {
     "output_type": "stream",
     "name": "stdout",
     "text": "80000\n84000\n"
    }
   ],
   "source": [
    "# Use Variable 代替具体数值\n",
    "class Employee:\n",
    "\n",
    "    raise_amount = 1.05\n",
    "\n",
    "    def __init__(self, first, last, pay):\n",
    "        self.first = first\n",
    "        self.last = last\n",
    "        self.pay = pay\n",
    "        self.email = first + \".\" + last + \"@company.com\"\n",
    "\n",
    "    def full_name(self):\n",
    "        return \"{} {}\".format(self.first, self.last)\n",
    "\n",
    "    def apply_raise(self):\n",
    "        self.pay = int(self.pay * self.raise_amount)\n",
    "        # as \"self.pay = int(self.pay * Employee.raise_amount\"\n",
    "\n",
    "emp_1 = Employee(\"Corey\", \"Lee\", 80000)\n",
    "emp_2 = Employee(\"Sean\", \"Guo\", 60000)\n",
    "\n",
    "# print(emp_1.pay)\n",
    "print(emp_1.pay)\n",
    "emp_1.apply_raise()\n",
    "print(emp_1.pay)\n",
    "\n",
    "\n",
    "\n"
   ]
  },
  {
   "cell_type": "code",
   "execution_count": 42,
   "metadata": {
    "tags": []
   },
   "outputs": [
    {
     "output_type": "stream",
     "name": "stdout",
     "text": "1.05\n1.05\n1.05\n"
    }
   ],
   "source": [
    "print(Employee.raise_amount)\n",
    "print(emp_1.raise_amount)\n",
    "print(emp_2.raise_amount)"
   ]
  },
  {
   "cell_type": "code",
   "execution_count": 43,
   "metadata": {
    "tags": []
   },
   "outputs": [
    {
     "output_type": "stream",
     "name": "stdout",
     "text": "{'first': 'Corey', 'last': 'Lee', 'pay': 84000, 'email': 'Corey.Lee@company.com'}\n"
    }
   ],
   "source": [
    "print(emp_1.__dict__)"
   ]
  },
  {
   "cell_type": "code",
   "execution_count": 44,
   "metadata": {
    "tags": []
   },
   "outputs": [
    {
     "output_type": "stream",
     "name": "stdout",
     "text": "{'__module__': '__main__', 'raise_amount': 1.05, '__init__': <function Employee.__init__ at 0x7fe46071f3a0>, 'full_name': <function Employee.full_name at 0x7fe46071f5e0>, 'apply_raise': <function Employee.apply_raise at 0x7fe46071f550>, '__dict__': <attribute '__dict__' of 'Employee' objects>, '__weakref__': <attribute '__weakref__' of 'Employee' objects>, '__doc__': None}\n"
    }
   ],
   "source": [
    "print(Employee.__dict__)"
   ]
  },
  {
   "cell_type": "code",
   "execution_count": 45,
   "metadata": {
    "tags": []
   },
   "outputs": [
    {
     "output_type": "stream",
     "name": "stdout",
     "text": "1.02\n1.02\n1.02\n"
    }
   ],
   "source": [
    "Employee.raise_amount = 1.02\n",
    "\n",
    "print(Employee.raise_amount)\n",
    "print(emp_1.raise_amount)\n",
    "print(emp_2.raise_amount)"
   ]
  },
  {
   "cell_type": "code",
   "execution_count": 46,
   "metadata": {
    "tags": []
   },
   "outputs": [
    {
     "output_type": "stream",
     "name": "stdout",
     "text": "1.02\n1.03\n1.02\n"
    }
   ],
   "source": [
    "emp_1.raise_amount = 1.03\n",
    "\n",
    "print(Employee.raise_amount)\n",
    "print(emp_1.raise_amount)\n",
    "print(emp_2.raise_amount)"
   ]
  },
  {
   "cell_type": "code",
   "execution_count": 47,
   "metadata": {
    "tags": []
   },
   "outputs": [
    {
     "output_type": "stream",
     "name": "stdout",
     "text": "{'first': 'Corey', 'last': 'Lee', 'pay': 84000, 'email': 'Corey.Lee@company.com', 'raise_amount': 1.03}\n"
    }
   ],
   "source": [
    "print(emp_1.__dict__)"
   ]
  },
  {
   "cell_type": "code",
   "execution_count": 53,
   "metadata": {
    "tags": []
   },
   "outputs": [
    {
     "output_type": "stream",
     "name": "stdout",
     "text": "0\n1\n2\n2\n"
    }
   ],
   "source": [
    "# add a Variable to count the amount of employees\n",
    "class Employee:\n",
    "\n",
    "    num_of_emps = 0\n",
    "    raise_amount = 1.05\n",
    "\n",
    "    def __init__(self, first, last, pay):\n",
    "        self.first = first\n",
    "        self.last = last\n",
    "        self.pay = pay\n",
    "        self.email = first + \".\" + last + \"@company.com\"\n",
    "\n",
    "        Employee.num_of_emps += 1\n",
    "\n",
    "    def full_name(self):\n",
    "        return \"{} {}\".format(self.first, self.last)\n",
    "\n",
    "    def apply_raise(self):\n",
    "        self.pay = int(self.pay * self.raise_amount)\n",
    "\n",
    "print(Employee.num_of_emps)\n",
    "\n",
    "emp_1 = Employee(\"Corey\", \"Lee\", 80000)\n",
    "\n",
    "print(Employee.num_of_emps)\n",
    "\n",
    "emp_2 = Employee(\"Sean\", \"Guo\", 60000)\n",
    "\n",
    "print(Employee.num_of_emps)\n",
    "# just need the class of Employee works\n",
    "print(Employee.num_of_emps)\n",
    "\n"
   ]
  },
  {
   "cell_type": "markdown",
   "metadata": {},
   "source": [
    "### 3.classmethods and staticmethods"
   ]
  },
  {
   "cell_type": "code",
   "execution_count": 57,
   "metadata": {
    "tags": []
   },
   "outputs": [
    {
     "output_type": "stream",
     "name": "stdout",
     "text": "1.06\n1.06\n1.06\n"
    }
   ],
   "source": [
    "# classmethod\n",
    "class Employee:\n",
    "\n",
    "    num_of_emps = 0\n",
    "    raise_amount = 1.05\n",
    "\n",
    "    def __init__(self, first, last, pay):\n",
    "        self.first = first\n",
    "        self.last = last\n",
    "        self.pay = pay\n",
    "        self.email = first + \".\" + last + \"@company.com\"\n",
    "\n",
    "        Employee.num_of_emps += 1\n",
    "\n",
    "    def full_name(self):\n",
    "        return \"{} {}\".format(self.first, self.last)\n",
    "\n",
    "    def apply_raise(self):\n",
    "        self.pay = int(self.pay * self.raise_amount)\n",
    "\n",
    "    # Use the decorator to set Employee.raise_amount\n",
    "    @classmethod\n",
    "    def set_raise_amt(cls, amount):\n",
    "        cls.raise_amount = amount\n",
    "\n",
    "emp_1 = Employee(\"Corey\", \"Lee\", 80000)\n",
    "emp_2 = Employee(\"Sean\", \"Guo\", 60000)\n",
    "\n",
    "# change the raise_amount\n",
    "Employee.set_raise_amt(1.06)\n",
    "\n",
    "print(Employee.raise_amount)\n",
    "print(emp_1.raise_amount)\n",
    "print(emp_2.raise_amount)\n",
    "\n"
   ]
  },
  {
   "cell_type": "code",
   "execution_count": 58,
   "metadata": {
    "tags": []
   },
   "outputs": [
    {
     "output_type": "stream",
     "name": "stdout",
     "text": "1.12\n1.12\n1.12\n"
    }
   ],
   "source": [
    "# change the raise_amount for emp_1 by the decorator function, it will change global Variable\n",
    "emp_1.set_raise_amt(1.12)\n",
    "\n",
    "print(Employee.raise_amount)\n",
    "print(emp_1.raise_amount)\n",
    "print(emp_2.raise_amount)\n"
   ]
  },
  {
   "cell_type": "code",
   "execution_count": 60,
   "metadata": {
    "tags": []
   },
   "outputs": [
    {
     "output_type": "stream",
     "name": "stdout",
     "text": "John.Doe@company.com\n70000\n"
    }
   ],
   "source": [
    "# analysis for new classmethod\n",
    "class Employee:\n",
    "\n",
    "    num_of_emps = 0\n",
    "    raise_amount = 1.05\n",
    "\n",
    "    def __init__(self, first, last, pay):\n",
    "        self.first = first\n",
    "        self.last = last\n",
    "        self.pay = pay\n",
    "        self.email = first + \".\" + last + \"@company.com\"\n",
    "\n",
    "        Employee.num_of_emps += 1\n",
    "\n",
    "    def full_name(self):\n",
    "        return \"{} {}\".format(self.first, self.last)\n",
    "\n",
    "    def apply_raise(self):\n",
    "        self.pay = int(self.pay * self.raise_amount)\n",
    "\n",
    "    # Use the decorator to set Employee.raise_amount\n",
    "    @classmethod\n",
    "    def set_raise_amt(cls, amount):\n",
    "        cls.raise_amount = amount\n",
    "\n",
    "emp_1 = Employee(\"Corey\", \"Lee\", 80000)\n",
    "emp_2 = Employee(\"Sean\", \"Guo\", 60000)\n",
    "\n",
    "# append new employees\n",
    "emp_str_1 = \"John-Doe-70000\"\n",
    "emp_str_2 = \"Steve-Smith-30000\"\n",
    "emp_str_2 = \"Jane-Doe-90000\"\n",
    "\n",
    "first, last, pay = emp_str_1.split(\"-\")\n",
    "\n",
    "# new employee in class Employee\n",
    "new_emp_1 = Employee(first, last, pay)\n",
    "\n",
    "print(new_emp_1.email)\n",
    "print(new_emp_1.pay)\n"
   ]
  },
  {
   "cell_type": "code",
   "execution_count": 61,
   "metadata": {
    "tags": []
   },
   "outputs": [
    {
     "output_type": "stream",
     "name": "stdout",
     "text": "John.Doe@company.com\n70000\n"
    }
   ],
   "source": [
    "# add new classmethod\n",
    "class Employee:\n",
    "\n",
    "    num_of_emps = 0\n",
    "    raise_amount = 1.05\n",
    "\n",
    "    def __init__(self, first, last, pay):\n",
    "        self.first = first\n",
    "        self.last = last\n",
    "        self.pay = pay\n",
    "        self.email = first + \".\" + last + \"@company.com\"\n",
    "\n",
    "        Employee.num_of_emps += 1\n",
    "\n",
    "    def full_name(self):\n",
    "        return \"{} {}\".format(self.first, self.last)\n",
    "\n",
    "    def apply_raise(self):\n",
    "        self.pay = int(self.pay * self.raise_amount)\n",
    "\n",
    "    # Use classmethod as the decorator to set Employee.raise_amount\n",
    "    @classmethod\n",
    "    def set_raise_amt(cls, amount):\n",
    "        cls.raise_amount = amount\n",
    "\n",
    "    @classmethod\n",
    "    def from_string(cls, emp_str):\n",
    "        first, last, pay = emp_str.split(\"-\")\n",
    "        return cls(first, last, pay)\n",
    "\n",
    "\n",
    "emp_1 = Employee(\"Corey\", \"Lee\", 80000)\n",
    "emp_2 = Employee(\"Sean\", \"Guo\", 60000)\n",
    "\n",
    "emp_str_1 = \"John-Doe-70000\"\n",
    "emp_str_2 = \"Steve-Smith-30000\"\n",
    "emp_str_3 = \"Jane-Doe-90000\"\n",
    "\n",
    "# new employee in class Employee\n",
    "new_emp_1 = Employee.from_string(emp_str_1)\n",
    "\n",
    "print(new_emp_1.email)\n",
    "print(new_emp_1.pay)\n"
   ]
  },
  {
   "cell_type": "code",
   "execution_count": 64,
   "metadata": {
    "tags": []
   },
   "outputs": [
    {
     "output_type": "stream",
     "name": "stdout",
     "text": "False\n"
    }
   ],
   "source": [
    "# Staticmethod\n",
    "class Employee:\n",
    "\n",
    "    num_of_emps = 0\n",
    "    raise_amount = 1.05\n",
    "\n",
    "    def __init__(self, first, last, pay):\n",
    "        self.first = first\n",
    "        self.last = last\n",
    "        self.pay = pay\n",
    "        self.email = first + \".\" + last + \"@company.com\"\n",
    "\n",
    "        Employee.num_of_emps += 1\n",
    "\n",
    "    def full_name(self):\n",
    "        return \"{} {}\".format(self.first, self.last)\n",
    "\n",
    "    def apply_raise(self):\n",
    "        self.pay = int(self.pay * self.raise_amount)\n",
    "\n",
    "    # Use classmethod as the decorator to set Employee.raise_amount\n",
    "    @classmethod\n",
    "    def set_raise_amt(cls, amount):\n",
    "        cls.raise_amount = amount\n",
    "\n",
    "    @classmethod\n",
    "    def from_string(cls, emp_str):\n",
    "        first, last, pay = emp_str.split(\"-\")\n",
    "        return cls(first, last, pay)\n",
    "\n",
    "    # Use staticmethod as decorator to count weekdays\n",
    "    @staticmethod\n",
    "    def is_workday(day):\n",
    "        if day.weekday() == 5 or day.weekday() == 6:\n",
    "        # weekday==5 or 6 means weekday[0, 5] or weekdays[1, 6]\n",
    "            return False\n",
    "        return True \n",
    "\n",
    "emp_1 = Employee(\"Corey\", \"Lee\", 80000)\n",
    "emp_2 = Employee(\"Sean\", \"Guo\", 60000)\n",
    "\n",
    "import datetime\n",
    "my_date = datetime.date(2020,7,5)\n",
    "\n",
    "print(Employee.is_workday(my_date))\n"
   ]
  },
  {
   "cell_type": "code",
   "execution_count": null,
   "metadata": {},
   "outputs": [],
   "source": []
  }
 ],
 "metadata": {
  "language_info": {
   "codemirror_mode": {
    "name": "ipython",
    "version": 3
   },
   "file_extension": ".py",
   "mimetype": "text/x-python",
   "name": "python",
   "nbconvert_exporter": "python",
   "pygments_lexer": "ipython3",
   "version": "3.8.3-final"
  },
  "orig_nbformat": 2,
  "kernelspec": {
   "name": "python38364bitmyprojectenvconda64d0fe915c75484da800768831797dc2",
   "display_name": "Python 3.8.3 64-bit ('my_project_env': conda)"
  }
 },
 "nbformat": 4,
 "nbformat_minor": 2
}