{
 "metadata": {
  "language_info": {
   "codemirror_mode": {
    "name": "ipython",
    "version": 3
   },
   "file_extension": ".py",
   "mimetype": "text/x-python",
   "name": "python",
   "nbconvert_exporter": "python",
   "pygments_lexer": "ipython3",
   "version": "3.8.3-final"
  },
  "orig_nbformat": 2,
  "kernelspec": {
   "name": "python38364bitmyprojectenvconda64d0fe915c75484da800768831797dc2",
   "display_name": "Python 3.8.3 64-bit ('my_project_env': conda)"
  }
 },
 "nbformat": 4,
 "nbformat_minor": 2,
 "cells": [
  {
   "cell_type": "markdown",
   "metadata": {},
   "source": [
    "## 1.图片操作"
   ]
  },
  {
   "cell_type": "code",
   "execution_count": 1,
   "metadata": {},
   "outputs": [],
   "source": [
    "from PIL import Image"
   ]
  },
  {
   "cell_type": "code",
   "execution_count": 2,
   "metadata": {},
   "outputs": [],
   "source": [
    "image = Image.open('example.jpg')\n",
    "image.show()"
   ]
  },
  {
   "cell_type": "markdown",
   "metadata": {},
   "source": [
    "### 1.1 格式转换"
   ]
  },
  {
   "cell_type": "code",
   "execution_count": 3,
   "metadata": {},
   "outputs": [],
   "source": [
    "png = image.convert('RGBA')\n",
    "png.save('convert_png.png')"
   ]
  },
  {
   "cell_type": "markdown",
   "metadata": {},
   "source": [
    "### 1.2 图片裁剪"
   ]
  },
  {
   "cell_type": "code",
   "execution_count": 4,
   "metadata": {},
   "outputs": [],
   "source": [
    "from PIL import Image"
   ]
  },
  {
   "cell_type": "code",
   "execution_count": 8,
   "metadata": {},
   "outputs": [],
   "source": [
    "img = Image.open('example.jpg')"
   ]
  },
  {
   "cell_type": "code",
   "execution_count": 11,
   "metadata": {},
   "outputs": [],
   "source": [
    "img_crop = img.crop((200, 100, 1000, 800))\n",
    "# (200, 100) is the coordinate of x and y at the left-top, (1000, 800) is the coordinate of x and y at right-bottom.\n",
    "img_crop.save('example_crop.jpg')"
   ]
  },
  {
   "cell_type": "markdown",
   "metadata": {},
   "source": [
    "### 1.3 截屏"
   ]
  },
  {
   "cell_type": "code",
   "execution_count": 13,
   "metadata": {},
   "outputs": [],
   "source": [
    "from PIL import ImageGrab"
   ]
  },
  {
   "cell_type": "code",
   "execution_count": 14,
   "metadata": {},
   "outputs": [],
   "source": [
    "im = ImageGrab.grab()\n",
    "# Grab the entire screen of desktop (not current screen) \n",
    "im.save('entire_screen.png')"
   ]
  },
  {
   "cell_type": "code",
   "execution_count": 16,
   "metadata": {},
   "outputs": [],
   "source": [
    "im = ImageGrab.grab((300, 100, 1400, 600))\n",
    "im.save('part_screen.png')"
   ]
  },
  {
   "cell_type": "markdown",
   "metadata": {},
   "source": [
    "## 2.音频操作"
   ]
  },
  {
   "cell_type": "markdown",
   "metadata": {},
   "source": [
    "### 2.1 Pydub安装以及读取音频"
   ]
  },
  {
   "cell_type": "markdown",
   "metadata": {},
   "source": [
    "pip安装在虚拟环境my_project_env中：\n",
    "`pip3 install pydub` 和 `pip3 install ffprobe-python`\n",
    "安装'ffprobe'是不能直接用'pip3 install ffprobe',ffprobe包只用于python2中"
   ]
  },
  {
   "cell_type": "code",
   "execution_count": 11,
   "metadata": {},
   "outputs": [],
   "source": [
    "import ffprobe"
   ]
  },
  {
   "cell_type": "code",
   "execution_count": 12,
   "metadata": {},
   "outputs": [],
   "source": [
    "from pydub import AudioSegment\n",
    "music = AudioSegment.from_mp3('me_to_love.mp3')"
   ]
  },
  {
   "cell_type": "markdown",
   "metadata": {},
   "source": [
    "读取其他类型的文件：\n",
    "```\n",
    "music = AudioSegment.from_wav('music.wav')\n",
    "music = AudioSegment.from_ogg('music.ogg')\n",
    "music = AudioSegment.from_flv('music.flv')\n",
    "\n",
    "```"
   ]
  },
  {
   "cell_type": "markdown",
   "metadata": {},
   "source": [
    "### 2.2 音频剪切"
   ]
  },
  {
   "cell_type": "markdown",
   "metadata": {},
   "source": [
    "通过类似ndarray的中括号操作："
   ]
  },
  {
   "cell_type": "code",
   "execution_count": 13,
   "metadata": {},
   "outputs": [],
   "source": [
    "# 截取前20秒\n",
    "clip = music[:20*1000]\n",
    "# 截取后20秒\n",
    "clip = music[-20000:]\n",
    "# 截取第20秒到第40秒\n",
    "clip = music[20*1000:40*1000]"
   ]
  },
  {
   "cell_type": "code",
   "execution_count": 14,
   "metadata": {},
   "outputs": [
    {
     "output_type": "execute_result",
     "data": {
      "text/plain": "<_io.BufferedRandom name='clip.mp3'>"
     },
     "metadata": {},
     "execution_count": 14
    }
   ],
   "source": [
    "# 保存文件为clip.mp3,格式为mp3,每个clip生成一个mp3,本cell中生成最后一个clip的mp3\n",
    "clip.export('clip.mp3', format='mp3')"
   ]
  },
  {
   "cell_type": "markdown",
   "metadata": {},
   "source": [
    "### 3.3 增加或减少音量"
   ]
  },
  {
   "cell_type": "code",
   "execution_count": 15,
   "metadata": {},
   "outputs": [],
   "source": [
    "# 音量加10\n",
    "music += 10\n",
    "# 音量减10\n",
    "music -= 10"
   ]
  },
  {
   "cell_type": "markdown",
   "metadata": {},
   "source": [
    "### 3.4 音频拼接"
   ]
  },
  {
   "cell_type": "code",
   "execution_count": 17,
   "metadata": {},
   "outputs": [
    {
     "output_type": "execute_result",
     "data": {
      "text/plain": "<_io.BufferedRandom name='music_splicing.mp3'>"
     },
     "metadata": {},
     "execution_count": 17
    }
   ],
   "source": [
    "# 重复拼接\n",
    "music_splicing = clip*2\n",
    "music_splicing.export('music_splicing.mp3', format='mp3')"
   ]
  },
  {
   "cell_type": "code",
   "execution_count": 19,
   "metadata": {},
   "outputs": [
    {
     "output_type": "execute_result",
     "data": {
      "text/plain": "<_io.BufferedRandom name='clip_splicing.mp3'>"
     },
     "metadata": {},
     "execution_count": 19
    }
   ],
   "source": [
    "# cliping and splicing\n",
    "clip1 = music[:20*1000]\n",
    "clip2 = music[-20*1000:]\n",
    "clip_splicing = clip1 + clip2\n",
    "clip_splicing.export('clip_splicing.mp3', format='mp3')"
   ]
  },
  {
   "cell_type": "markdown",
   "metadata": {},
   "source": [
    "### 3.5 交叉渐入渐出crossfade"
   ]
  },
  {
   "cell_type": "code",
   "execution_count": 20,
   "metadata": {},
   "outputs": [
    {
     "output_type": "execute_result",
     "data": {
      "text/plain": "<_io.BufferedRandom name='add_fade.mp3'>"
     },
     "metadata": {},
     "execution_count": 20
    }
   ],
   "source": [
    "# cliping music\n",
    "begin = music[20*1000:40*1000]\n",
    "end = music[-20*1000:]\n",
    "# add crossfade effect\n",
    "add_fade = begin.append(end, crossfade=1500)\n",
    "# export music\n",
    "add_fade.export('add_fade.mp3', format='mp3')"
   ]
  },
  {
   "cell_type": "markdown",
   "metadata": {},
   "source": [
    "## 3.视频操作"
   ]
  },
  {
   "cell_type": "markdown",
   "metadata": {},
   "source": [
    "通过moviepy和opencv进行操作，先在本虚拟环境'my_project_env'中安装opencv-python和moviepy模块：`pip3 install opencv-python` 和 `pip3 install moviepy`"
   ]
  },
  {
   "cell_type": "markdown",
   "metadata": {},
   "source": [
    "### 3.1 视频剪辑"
   ]
  },
  {
   "cell_type": "code",
   "execution_count": 21,
   "metadata": {},
   "outputs": [],
   "source": [
    "from moviepy.editor import *"
   ]
  },
  {
   "cell_type": "code",
   "execution_count": 25,
   "metadata": {
    "tags": []
   },
   "outputs": [
    {
     "output_type": "stream",
     "name": "stderr",
     "text": "chunk:  42%|████▏     | 110/265 [00:00<00:00, 1093.72it/s, now=None]Moviepy - Building video video_clip.mp4.\nMoviePy - Writing audio in video_clipTEMP_MPY_wvf_snd.mp3\nt:   1%|▏         | 10/720 [00:00<00:07, 98.95it/s, now=None]MoviePy - Done.\nMoviepy - Writing video video_clip.mp4\n\nt:  99%|█████████▉| 716/720 [00:12<00:00, 56.94it/s, now=None]Moviepy - Done !\nMoviepy - video ready video_clip.mp4\n"
    }
   ],
   "source": [
    "# clips the video from the eighth second to twentieth second\n",
    "video_clip = VideoFileClip('doudou.mov').subclip(8, 20)\n",
    "video_clip.write_videofile('video_clip.mp4')\n",
    "# write_videofile codece does not support .mov "
   ]
  },
  {
   "cell_type": "markdown",
   "metadata": {},
   "source": [
    "### 3.2 提取音频文件"
   ]
  },
  {
   "cell_type": "code",
   "execution_count": 23,
   "metadata": {
    "tags": []
   },
   "outputs": [
    {
     "output_type": "stream",
     "name": "stderr",
     "text": "chunk:  17%|█▋        | 120/714 [00:00<00:00, 1177.58it/s, now=None]MoviePy - Writing audio in dou_audio.mp3\nchunk:  96%|█████████▌| 682/714 [00:00<00:00, 1335.08it/s, now=None]MoviePy - Done.\n"
    }
   ],
   "source": [
    "# reading video\n",
    "video = VideoFileClip('doudou.mov')\n",
    "# getting the aduio from the video\n",
    "audio = video.audio\n",
    "# save the audio\n",
    "audio.write_audiofile('dou_audio.mp3')\n"
   ]
  },
  {
   "cell_type": "markdown",
   "metadata": {},
   "source": [
    "### 3.3 混流"
   ]
  },
  {
   "cell_type": "code",
   "execution_count": 26,
   "metadata": {},
   "outputs": [],
   "source": [
    "from moviepy.editor import *"
   ]
  },
  {
   "cell_type": "code",
   "execution_count": 27,
   "metadata": {
    "tags": []
   },
   "outputs": [
    {
     "output_type": "stream",
     "name": "stderr",
     "text": "chunk:   4%|▎         | 99/2734 [00:00<00:02, 988.90it/s, now=None]Moviepy - Building video video_mix.mp4.\nMoviePy - Writing audio in video_mixTEMP_MPY_wvf_snd.mp3\nt:   1%|          | 11/1941 [00:00<00:18, 101.71it/s, now=None]MoviePy - Done.\nMoviepy - Writing video video_mix.mp4\n\nt: 100%|█████████▉| 1936/1941 [00:33<00:00, 49.45it/s, now=None]Moviepy - Done !\nMoviepy - video ready video_mix.mp4\n"
    }
   ],
   "source": [
    "# reading video\n",
    "video = VideoFileClip('doudou.mov')\n",
    "# reading audio\n",
    "audio = AudioFileClip('me_to_love.mp3')\n",
    "# setting the audio to the video\n",
    "video_mix = video.set_audio(audio)\n",
    "# saving video file\n",
    "video_mix.write_videofile('video_mix.mp4')\n",
    "# export the length of the mp4 file is the same with the longer between the mixing files"
   ]
  },
  {
   "cell_type": "markdown",
   "metadata": {},
   "source": [
    "### 3.4 逐帧提取画面"
   ]
  },
  {
   "cell_type": "code",
   "execution_count": 28,
   "metadata": {},
   "outputs": [],
   "source": [
    "import cv2"
   ]
  },
  {
   "cell_type": "code",
   "execution_count": 30,
   "metadata": {},
   "outputs": [],
   "source": [
    "# reading video\n",
    "video = cv2.VideoCapture('video_clip.mp4')\n",
    "# reading frame by frame\n",
    "ret, frame = video.read()\n",
    "i = 0\n",
    "# loop reading 10 frames\n",
    "while ret:\n",
    "    i += 1\n",
    "    if i >= 10:\n",
    "        break\n",
    "    cv2.imwrite('v'+str(i) + '.jpg', frame)\n",
    "    ret, frame = video.read()"
   ]
  },
  {
   "cell_type": "markdown",
   "metadata": {},
   "source": [
    "### 3.5 截取gif"
   ]
  },
  {
   "cell_type": "code",
   "execution_count": 31,
   "metadata": {},
   "outputs": [],
   "source": [
    "from moviepy.editor import *"
   ]
  },
  {
   "cell_type": "code",
   "execution_count": 33,
   "metadata": {
    "tags": []
   },
   "outputs": [
    {
     "output_type": "stream",
     "name": "stderr",
     "text": "t:   0%|          | 2/600 [00:00<00:56, 10.52it/s, now=None]MoviePy - Building file doudou.gif with imageio.\nt: 100%|██████████| 600/600 [01:44<00:00,  5.44it/s, now=None]"
    }
   ],
   "source": [
    "# reading video\n",
    "video = VideoFileClip('doudou.mov')\n",
    "# clipping and resizing the video\n",
    "video_clip = video.subclip(10, 20).resize((0.3))\n",
    "'''\n",
    "The parameters of subclip can be two tuples: subclip((1, 12), (2, 05)), which means from 1 minute and twelve second to  two minute five second.\n",
    "'''\n",
    "# saving gif\n",
    "video_clip.write_gif('doudou.gif')\n",
    "\n",
    "# the video frame is 60 frames per second, so the gif size is very large"
   ]
  },
  {
   "cell_type": "code",
   "execution_count": null,
   "metadata": {},
   "outputs": [],
   "source": []
  }
 ]
}