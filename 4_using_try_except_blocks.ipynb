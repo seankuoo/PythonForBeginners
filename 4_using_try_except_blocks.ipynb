{
 "cells": [
  {
   "cell_type": "markdown",
   "metadata": {},
   "source": [
    "### 11.Using Try/Except Blocks for Error handling"
   ]
  },
  {
   "cell_type": "code",
   "execution_count": 1,
   "metadata": {
    "tags": []
   },
   "outputs": [
    {
     "output_type": "stream",
     "name": "stdout",
     "text": "Sorry. This file does not exist!\n"
    }
   ],
   "source": [
    "try:\n",
    "    f = open('data/testfile.txt')\n",
    "except Exception:\n",
    "    print('Sorry. This file does not exist!')"
   ]
  },
  {
   "cell_type": "code",
   "execution_count": 7,
   "metadata": {
    "tags": []
   },
   "outputs": [
    {
     "name": "stdout",
     "output_type": "stream",
     "text": [
      "Sorry, something went wrong!\n"
     ]
    }
   ],
   "source": [
    "try:\n",
    "    f = open('data/test_file.txt')\n",
    "    var = bad_var \n",
    "except FileNotFoundError:\n",
    "    print('Sorry. This file does not exist!')\n",
    "except Exception:\n",
    "    print('Sorry, something went wrong!')\n"
   ]
  },
  {
   "cell_type": "code",
   "execution_count": 8,
   "metadata": {
    "tags": []
   },
   "outputs": [
    {
     "name": "stdout",
     "output_type": "stream",
     "text": [
      "name 'bad_var' is not defined\n"
     ]
    }
   ],
   "source": [
    "try:\n",
    "    f = open('data/test_file.txt')\n",
    "    var = bad_var \n",
    "except FileNotFoundError as e:\n",
    "    print(e)\n",
    "except Exception as e:\n",
    "    print(e)"
   ]
  },
  {
   "cell_type": "code",
   "execution_count": 9,
   "metadata": {},
   "outputs": [],
   "source": [
    "try:\n",
    "    f = open('data/test_file.txt')\n",
    "except FileNotFoundError as e:\n",
    "    print(e)\n",
    "except Exception as e:\n",
    "    print(e)"
   ]
  },
  {
   "cell_type": "code",
   "execution_count": 10,
   "metadata": {
    "tags": []
   },
   "outputs": [
    {
     "name": "stdout",
     "output_type": "stream",
     "text": [
      "[Errno 2] No such file or directory: 'data/testfile.txt'\n"
     ]
    }
   ],
   "source": [
    "try:\n",
    "    f = open('data/testfile.txt')\n",
    "except FileNotFoundError as e:\n",
    "    print(e)\n",
    "except Exception as e:\n",
    "    print(e)"
   ]
  },
  {
   "cell_type": "code",
   "execution_count": 11,
   "metadata": {
    "tags": []
   },
   "outputs": [
    {
     "name": "stdout",
     "output_type": "stream",
     "text": [
      "Test File Contents!\n"
     ]
    }
   ],
   "source": [
    "try:\n",
    "    f = open('data/test_file.txt')\n",
    "except FileNotFoundError as e:\n",
    "    print(e)\n",
    "except Exception as e:\n",
    "    print(e)\n",
    "else:\n",
    "    print(f.read())\n",
    "    f.close"
   ]
  },
  {
   "cell_type": "code",
   "execution_count": 13,
   "metadata": {
    "tags": []
   },
   "outputs": [
    {
     "name": "stdout",
     "output_type": "stream",
     "text": [
      "[Errno 2] No such file or directory: 'data/testfile.txt'\n",
      "Executing Finally...\n"
     ]
    }
   ],
   "source": [
    "try:\n",
    "    f = open('data/testfile.txt')\n",
    "except FileNotFoundError as e:\n",
    "    print(e)\n",
    "except Exception as e:\n",
    "    print(e)\n",
    "else:\n",
    "    print(f.read())\n",
    "    f.close\n",
    "finally:\n",
    "    print(\"Executing Finally...\")"
   ]
  },
  {
   "cell_type": "code",
   "execution_count": 16,
   "metadata": {
    "tags": []
   },
   "outputs": [
    {
     "name": "stdout",
     "output_type": "stream",
     "text": [
      "Currupt File!\n",
      "Executing Finally...\n"
     ]
    }
   ],
   "source": [
    "try:\n",
    "    f = open('data/currupt_file.txt')\n",
    "    if f.name == 'currupt_file.txt':\n",
    "        raise Exception\n",
    "except FileNotFoundError as e:\n",
    "    print(e)\n",
    "except Exception as e:\n",
    "    print('Error!')\n",
    "else:\n",
    "    print(f.read())\n",
    "    f.close\n",
    "finally:\n",
    "    print(\"Executing Finally...\")"
   ]
  },
  {
   "cell_type": "markdown",
   "metadata": {},
   "source": [
    "### 12.Duck Typing and Easier to Ask Forgiveness than Permission(EAFP)"
   ]
  },
  {
   "cell_type": "code",
   "execution_count": 2,
   "metadata": {},
   "outputs": [],
   "source": [
    "class Duck:\n",
    "    def quack(self):\n",
    "        print('Quack, Quack')\n",
    "\n",
    "    def fly(self):\n",
    "        print('Flap, Flap')\n",
    "\n",
    "class Person:\n",
    "    def quack(self):\n",
    "        print(\"I'm quacking like a duck!\")\n",
    "\n",
    "    def fly(self):\n",
    "        print(\"I'm flapping my arms!\")\n",
    "\n",
    "def quack_and_fly(thing):\n",
    "    # Not Duck-Typed(Non-Pythonic)\n",
    "    if isinstance(thing, Duck):\n",
    "        thing.quack()\n",
    "        thing.fly()\n",
    "    else:\n",
    "        print('This has to be a Duck!')\n",
    "\n",
    "    print()\n"
   ]
  },
  {
   "cell_type": "code",
   "execution_count": 3,
   "metadata": {
    "tags": []
   },
   "outputs": [
    {
     "name": "stdout",
     "output_type": "stream",
     "text": [
      "Quack, Quack\n",
      "Flap, Flap\n",
      "\n",
      "This has to be a Duck!\n",
      "\n"
     ]
    }
   ],
   "source": [
    "d = Duck()\n",
    "quack_and_fly(d)\n",
    "\n",
    "p = Person()\n",
    "quack_and_fly(p)\n"
   ]
  },
  {
   "cell_type": "code",
   "execution_count": 4,
   "metadata": {},
   "outputs": [],
   "source": [
    "class Duck:\n",
    "    def quack(self):\n",
    "        print('Quack, Quack')\n",
    "\n",
    "    def fly(self):\n",
    "        print('Flap, Flap')\n",
    "\n",
    "class Person:\n",
    "    def quack(self):\n",
    "        print(\"I'm quacking like a duck!\")\n",
    "\n",
    "    def fly(self):\n",
    "        print(\"I'm flapping my arms!\")\n",
    "\n",
    "def quack_and_fly(thing):\n",
    "    thing.quack()\n",
    "    thing.fly()\n",
    "\n",
    "\n",
    "    print()\n",
    " "
   ]
  },
  {
   "cell_type": "code",
   "execution_count": 5,
   "metadata": {
    "tags": []
   },
   "outputs": [
    {
     "name": "stdout",
     "output_type": "stream",
     "text": [
      "Quack, Quack\n",
      "Flap, Flap\n",
      "\n",
      "I'm quacking like a duck!\n",
      "I'm flapping my arms!\n",
      "\n"
     ]
    }
   ],
   "source": [
    "d = Duck()\n",
    "quack_and_fly(d)\n",
    "\n",
    "p = Person()\n",
    "quack_and_fly(p)"
   ]
  },
  {
   "cell_type": "code",
   "execution_count": 7,
   "metadata": {},
   "outputs": [],
   "source": [
    "class Duck:\n",
    "    def quack(self):\n",
    "        print('Quack, Quack')\n",
    "\n",
    "    def fly(self):\n",
    "        print('Flap, Flap')\n",
    "\n",
    "class Person:\n",
    "    def quack(self):\n",
    "        print(\"I'm quacking like a duck!\")\n",
    "\n",
    "    def fly(self):\n",
    "        print(\"I'm flapping my arms!\")\n",
    "\n",
    "def quack_and_fly(thing):\n",
    "    # Not Duck-Typed(Non-Pythonic)\n",
    "    if hasattr(thing, 'quack'):\n",
    "        if callable(thing.quack):\n",
    "            thing.quack()\n",
    "    \n",
    "    if hasattr(thing, 'fly'):\n",
    "        if callable(thing.fly):\n",
    "            thing.fly()\n",
    "\n",
    "    print()\n"
   ]
  },
  {
   "cell_type": "code",
   "execution_count": 8,
   "metadata": {
    "tags": []
   },
   "outputs": [
    {
     "name": "stdout",
     "output_type": "stream",
     "text": [
      "Quack, Quack\n",
      "Flap, Flap\n",
      "\n",
      "I'm quacking like a duck!\n",
      "I'm flapping my arms!\n",
      "\n"
     ]
    }
   ],
   "source": [
    "d = Duck()\n",
    "quack_and_fly(d)\n",
    "\n",
    "p = Person()\n",
    "quack_and_fly(p)"
   ]
  },
  {
   "cell_type": "code",
   "execution_count": 9,
   "metadata": {},
   "outputs": [],
   "source": [
    "class Duck:\n",
    "    def quack(self):\n",
    "        print('Quack, Quack')\n",
    "\n",
    "    def fly(self):\n",
    "        print('Flap, Flap')\n",
    "\n",
    "class Person:\n",
    "    def quack(self):\n",
    "        print(\"I'm quacking like a duck!\")\n",
    "\n",
    "    def fly(self):\n",
    "        print(\"I'm flapping my arms!\")\n",
    "\n",
    "def quack_and_fly(thing):\n",
    "    # EAFP (Pythonic)\n",
    "    try:\n",
    "        thing.quack()\n",
    "        thing.fly()\n",
    "    except AttributeError as e:\n",
    "        print(e)\n",
    "\n",
    "    print()\n"
   ]
  },
  {
   "cell_type": "code",
   "execution_count": 10,
   "metadata": {
    "tags": []
   },
   "outputs": [
    {
     "name": "stdout",
     "output_type": "stream",
     "text": [
      "Quack, Quack\n",
      "Flap, Flap\n",
      "\n",
      "I'm quacking like a duck!\n",
      "I'm flapping my arms!\n",
      "\n"
     ]
    }
   ],
   "source": [
    "d = Duck()\n",
    "quack_and_fly(d)\n",
    "\n",
    "p = Person()\n",
    "quack_and_fly(p)"
   ]
  },
  {
   "cell_type": "code",
   "execution_count": 13,
   "metadata": {
    "tags": []
   },
   "outputs": [
    {
     "name": "stdout",
     "output_type": "stream",
     "text": [
      "Missing some keys\n"
     ]
    }
   ],
   "source": [
    "# person = {'name':'Jess', 'age':23, 'job':'Programmer'}\n",
    "person = {'name':'Jess', 'age':23,}\n",
    "\n",
    "# LBYL (NON-Pythonic)\n",
    "if 'name' in person and 'age' in person and 'job' in person:\n",
    "    print(\"I'm {name}. I'm {age} years old and I am a {job}\".format(**person))\n",
    "else:\n",
    "    print('Missing some keys')\n",
    "\n"
   ]
  },
  {
   "cell_type": "code",
   "execution_count": 14,
   "metadata": {
    "tags": []
   },
   "outputs": [
    {
     "name": "stdout",
     "output_type": "stream",
     "text": [
      "Miss 'job' key\n"
     ]
    }
   ],
   "source": [
    "# EAFP (Pythonic)\n",
    "try:\n",
    "    print(\"I'm {name}. I'm {age} years old and I am a {job}\".format(**person))\n",
    "except KeyError as e:\n",
    "    print(\"Miss {} key\".format(e))"
   ]
  },
  {
   "cell_type": "code",
   "execution_count": 21,
   "metadata": {},
   "outputs": [],
   "source": [
    "my_list = [1, 2, 3, 4, 5, 6]"
   ]
  },
  {
   "cell_type": "code",
   "execution_count": 18,
   "metadata": {
    "tags": []
   },
   "outputs": [
    {
     "name": "stdout",
     "output_type": "stream",
     "text": [
      "That index does not exist\n"
     ]
    }
   ],
   "source": [
    "# Non-Pythonic\n",
    "if len(my_list) >= 6:\n",
    "    print(my_list[5])\n",
    "else:\n",
    "    print(\"That index does not exist\")"
   ]
  },
  {
   "cell_type": "code",
   "execution_count": 22,
   "metadata": {
    "tags": []
   },
   "outputs": [
    {
     "name": "stdout",
     "output_type": "stream",
     "text": [
      "6\n"
     ]
    }
   ],
   "source": [
    "# Pythonic\n",
    "try:\n",
    "    print(my_list[5])\n",
    "except IndexError:\n",
    "    print(\"That index does not exist\")"
   ]
  },
  {
   "cell_type": "code",
   "execution_count": 23,
   "metadata": {},
   "outputs": [],
   "source": [
    "import os\n",
    "\n",
    "my_file = \"/tmp/test.txt\""
   ]
  },
  {
   "cell_type": "code",
   "execution_count": 24,
   "metadata": {
    "tags": []
   },
   "outputs": [
    {
     "name": "stdout",
     "output_type": "stream",
     "text": [
      "File can not be accessed\n"
     ]
    }
   ],
   "source": [
    "# Race Condition\n",
    "if os.access(my_file, os.R_OK):\n",
    "    with open(my_file) as f:\n",
    "        print(f.read())\n",
    "else:\n",
    "    print(\"File can not be accessed\")"
   ]
  },
  {
   "cell_type": "code",
   "execution_count": 25,
   "metadata": {
    "tags": []
   },
   "outputs": [
    {
     "name": "stdout",
     "output_type": "stream",
     "text": [
      "File can not be accessed\n"
     ]
    }
   ],
   "source": [
    "#No Race-Condition\n",
    "try:\n",
    "    f = open(my_file)\n",
    "except IOError as e:\n",
    "    print(\"File can not be accessed\")\n",
    "else:\n",
    "    with f:\n",
    "        print(f.read())"
   ]
  },
  {
   "cell_type": "code",
   "execution_count": null,
   "metadata": {},
   "outputs": [],
   "source": []
  }
 ],
 "metadata": {
  "kernelspec": {
   "display_name": "Python 3.8.3 64-bit ('my_project_env': conda)",
   "language": "python",
   "name": "python38364bitmyprojectenvconda64d0fe915c75484da800768831797dc2"
  },
  "language_info": {
   "codemirror_mode": {
    "name": "ipython",
    "version": 3
   },
   "file_extension": ".py",
   "mimetype": "text/x-python",
   "name": "python",
   "nbconvert_exporter": "python",
   "pygments_lexer": "ipython3",
   "version": "3.8.3-final"
  }
 },
 "nbformat": 4,
 "nbformat_minor": 4
}